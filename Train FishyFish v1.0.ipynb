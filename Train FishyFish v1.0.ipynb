{
 "cells": [
  {
   "cell_type": "markdown",
   "metadata": {},
   "source": [
    "# Train FishyFish"
   ]
  },
  {
   "cell_type": "markdown",
   "metadata": {},
   "source": [
    "#### Dependencies"
   ]
  },
  {
   "cell_type": "code",
   "execution_count": 1,
   "metadata": {
    "collapsed": true
   },
   "outputs": [],
   "source": [
    "import numpy as np\n",
    "import tensorflow as tf\n",
    "from importlib import reload\n",
    "import os\n",
    "import pickle\n",
    "import fish_data as fd\n",
    "from datetime import datetime\n",
    "import pandas as pd"
   ]
  },
  {
   "cell_type": "markdown",
   "metadata": {},
   "source": [
    "## Load dictionaries and datafiles"
   ]
  },
  {
   "cell_type": "code",
   "execution_count": 2,
   "metadata": {
    "collapsed": false
   },
   "outputs": [],
   "source": [
    "with open('label_dictionary.pickle', 'rb') as handle :\n",
    "    label_dictionary = pickle.load(handle)"
   ]
  },
  {
   "cell_type": "code",
   "execution_count": 3,
   "metadata": {
    "collapsed": true
   },
   "outputs": [],
   "source": [
    "box_preds = pd.read_pickle('box_preds.pickle')\n",
    "labels_df = pd.read_pickle('onehot_df.pickle')\n",
    "annotated_boxes = pd.read_pickle('annotated_boxes.pickle')\n",
    "embedding_df = pd.read_pickle('embedding_dataframe.pickle')\n",
    "FiNoF_prob = pd.read_pickle('FiNoF_prob.pickle')"
   ]
  },
  {
   "cell_type": "code",
   "execution_count": 4,
   "metadata": {
    "collapsed": false
   },
   "outputs": [
    {
     "name": "stdout",
     "output_type": "stream",
     "text": [
      "There are 3577 filenames in the training set\n",
      "There are 200 filenames in the validation set\n"
     ]
    }
   ],
   "source": [
    "master = fd.generate_filenames_list()\n",
    "valid_fnames = []\n",
    "train_fnames = [] \n",
    "\n",
    "for key in master :\n",
    "    if label_dictionary.get(key).get('valid_set') == True :\n",
    "        valid_fnames.append(key)\n",
    "    else :\n",
    "        train_fnames.append(key)\n",
    "\n",
    "print(\"There are {} filenames in the training set\".format(len(train_fnames)))\n",
    "print(\"There are {} filenames in the validation set\".format(len(valid_fnames)))\n"
   ]
  },
  {
   "cell_type": "code",
   "execution_count": 5,
   "metadata": {
    "collapsed": false
   },
   "outputs": [],
   "source": [
    "valid_size = len(valid_fnames)"
   ]
  },
  {
   "cell_type": "code",
   "execution_count": 6,
   "metadata": {
    "collapsed": true
   },
   "outputs": [],
   "source": [
    "del label_dictionary"
   ]
  },
  {
   "cell_type": "markdown",
   "metadata": {},
   "source": [
    "## Set up FishyFish"
   ]
  },
  {
   "cell_type": "code",
   "execution_count": 7,
   "metadata": {
    "collapsed": true
   },
   "outputs": [],
   "source": [
    "version_ID = 'v1.0'\n",
    "initiate_FishyFish = True \n",
    "\n",
    "wd = os.getcwd()\n",
    "md = wd+'/FishyFish/'+version_ID\n",
    "if not os.path.exists(md) :\n",
    "    os.makedirs(md)\n",
    "tensorboard_path = md+'/Tensorboard_logs'"
   ]
  },
  {
   "cell_type": "code",
   "execution_count": 8,
   "metadata": {
    "collapsed": true
   },
   "outputs": [],
   "source": [
    "%run -i 'FishyFish/FishyFish_PARAMS.py'"
   ]
  },
  {
   "cell_type": "code",
   "execution_count": 9,
   "metadata": {
    "collapsed": false
   },
   "outputs": [],
   "source": [
    "%run -i 'FishyFish/FishyFish_GRAPH.py'"
   ]
  },
  {
   "cell_type": "code",
   "execution_count": 10,
   "metadata": {
    "collapsed": true
   },
   "outputs": [],
   "source": [
    "class_weight_dictionary = {0 : .5449, \n",
    "                           1 : .9470, \n",
    "                           2 : .9690, \n",
    "                           3 : .9823, \n",
    "                           4 : .9208,\n",
    "                           5 : .9534, \n",
    "                           6 : .8057,\n",
    "                           7 : .8769}"
   ]
  },
  {
   "cell_type": "code",
   "execution_count": 11,
   "metadata": {
    "collapsed": false
   },
   "outputs": [
    {
     "name": "stdout",
     "output_type": "stream",
     "text": [
      "Help on function prepare_FishyFish_batch in module fish_data:\n",
      "\n",
      "prepare_FishyFish_batch(f_list, embedding_df, annotated_fovea_directory, predicted_fovea_directory, annotated_boxes, box_preds, label_df, FiNoF_prob_series, class_weight_dictionary, fov_weight_predicted=0.2, fov_crop=64)\n",
      "    Function retrieves arrays for training or prediction of FishyFish model.\n",
      "\n"
     ]
    }
   ],
   "source": [
    "reload(fd)\n",
    "help(fd.prepare_FishyFish_batch)"
   ]
  },
  {
   "cell_type": "code",
   "execution_count": 12,
   "metadata": {
    "collapsed": false,
    "scrolled": false
   },
   "outputs": [],
   "source": [
    "valid_embeddings, valid_FiNoF, valid_OH_labels, v_label_weights, valid_fov_stack, v_fovea_weights = (\n",
    "    fd.prepare_FishyFish_batch(f_list = valid_fnames, embedding_df = embedding_df, \n",
    "                                           annotated_fovea_directory = 'data/annotated_fovea_train/', \n",
    "                                           predicted_fovea_directory = 'data/predicted_fovea_train/', \n",
    "                                           annotated_boxes = annotated_boxes,\n",
    "                                           box_preds = box_preds,\n",
    "                                           label_df = labels_df, \n",
    "                                           FiNoF_prob_series = FiNoF_prob, \n",
    "                                           class_weight_dictionary = class_weight_dictionary,\n",
    "                                           fov_weight_predicted = 0.2, fov_crop =64))"
   ]
  },
  {
   "cell_type": "markdown",
   "metadata": {},
   "source": [
    "## Train FishyFish"
   ]
  },
  {
   "cell_type": "code",
   "execution_count": 13,
   "metadata": {
    "collapsed": false,
    "scrolled": false
   },
   "outputs": [
    {
     "name": "stdout",
     "output_type": "stream",
     "text": [
      "Weight and bias variables initialized!\n",
      "\n",
      "Checkpoint saver initialized!\n",
      "\n",
      "Tensorboard initialized!\n",
      "To view your tensorboard dashboard summary, run the following on the command line:\n",
      "\n",
      "tensorboard --logdir='/Users/ccthomps/Documents/ML_Projects/Kaggle Competitions/FF3/FishyFish/v1.0/Tensorboard_logs'\n",
      "\n",
      "\n",
      "TRAINING FishyFish v1.0...\n",
      "Batch Cost value: 2.74246\n",
      "Batch Cost value: 2.66478\n",
      "Batch Cost value: 2.65528\n",
      "Batch Cost value: 2.65302\n",
      "Batch Cost value: 2.53499\n",
      "Batch Cost value: 2.75206\n",
      "Epoch 1 completed : 3456 coarse images observed in 357.936472 s (9.99339346452518 images/sec). Model Saved!\n",
      "Batch Cost value: 2.55449\n",
      "Batch Cost value: 2.51175\n",
      "Batch Cost value: 2.43609\n",
      "Batch Cost value: 2.39202\n",
      "Batch Cost value: 2.44911\n",
      "Epoch 2 completed : 6912 coarse images observed in 343.271835 s (10.420313102588215 images/sec). Model Saved!\n",
      "Epoch 3 completed : 10368 coarse images observed in 327.095985 s (10.935627962538275 images/sec). Model Saved!\n",
      "Epoch 4 completed : 13824 coarse images observed in 349.951216 s (10.221424691377555 images/sec). Model Saved!\n",
      "Epoch 5 completed : 17280 coarse images observed in 364.166954 s (9.822417879245574 images/sec). Model Saved!\n",
      "Epoch 6 completed : 20736 coarse images observed in 392.323581 s (9.117473874199778 images/sec). Model Saved!\n",
      "Epoch 7 completed : 24192 coarse images observed in 367.080571 s (9.744454712641273 images/sec). Model Saved!\n"
     ]
    }
   ],
   "source": [
    "%run -i 'FishyFish/FishyFish_SESSION.py'"
   ]
  },
  {
   "cell_type": "markdown",
   "metadata": {},
   "source": [
    "#### Note\n",
    "Update fish_data to retrieve images faster"
   ]
  },
  {
   "cell_type": "code",
   "execution_count": 16,
   "metadata": {
    "collapsed": false
   },
   "outputs": [
    {
     "name": "stdout",
     "output_type": "stream",
     "text": [
      "Help on function prepare_FishyFish_batch in module fish_data:\n",
      "\n",
      "prepare_FishyFish_batch(f_list, embedding_df, annotated_fovea_directory, predicted_fovea_directory, annotated_boxes, box_preds, label_df, FiNoF_prob_series, class_weight_dictionary, fov_weight_predicted=0.2, fov_crop=64)\n",
      "    Function retrieves arrays for training or prediction of FishyFish model.\n",
      "\n"
     ]
    }
   ],
   "source": [
    "reload(fd)\n",
    "help(fd.prepare_FishyFish_batch)"
   ]
  },
  {
   "cell_type": "code",
   "execution_count": 17,
   "metadata": {
    "collapsed": true
   },
   "outputs": [],
   "source": [
    "initiate_FishyFish = False"
   ]
  },
  {
   "cell_type": "code",
   "execution_count": 18,
   "metadata": {
    "collapsed": false
   },
   "outputs": [
    {
     "name": "stdout",
     "output_type": "stream",
     "text": [
      "Loading FishyFish version v1.0\n",
      "Metadata dictionary loaded!\n",
      "Initializing restorer...\n",
      "Weights and biases retrieved!  Picking up at 7 epochs completed : 24192 training images observed\n",
      "Checkpoint saver initialized!\n",
      "\n",
      "Tensorboard initialized!\n",
      "To view your tensorboard dashboard summary, run the following on the command line:\n",
      "\n",
      "tensorboard --logdir='/Users/ccthomps/Documents/ML_Projects/Kaggle Competitions/FF3/FishyFish/v1.0/Tensorboard_logs'\n",
      "\n",
      "\n",
      "TRAINING FishyFish v1.0...\n",
      "Epoch 8 completed : 27648 coarse images observed in 105.136339 s (34.022489598006636 images/sec). Model Saved!\n",
      "Epoch 9 completed : 31104 coarse images observed in 102.770539 s (34.80569465535254 images/sec). Model Saved!\n",
      "Epoch 10 completed : 34560 coarse images observed in 101.748661 s (35.15525378756581 images/sec). Model Saved!\n",
      "Epoch 11 completed : 38016 coarse images observed in 71.718883 s (49.87528877157777 images/sec). Model Saved!\n",
      "Epoch 12 completed : 41472 coarse images observed in 73.451684 s (48.69867925696571 images/sec). Model Saved!\n",
      "Epoch 13 completed : 44928 coarse images observed in 78.791136 s (45.3985077712295 images/sec). Model Saved!\n",
      "Epoch 14 completed : 48384 coarse images observed in 74.78977 s (47.82739671481808 images/sec). Model Saved!\n",
      "Epoch 15 completed : 51840 coarse images observed in 77.820325 s (45.96485558239445 images/sec). Model Saved!\n",
      "Epoch 16 completed : 55296 coarse images observed in 107.34897 s (33.32123261173349 images/sec). Model Saved!\n",
      "Epoch 17 completed : 58752 coarse images observed in 69.536515 s (51.44059923049063 images/sec). Model Saved!\n",
      "Epoch 18 completed : 62208 coarse images observed in 70.728665 s (50.573554583562405 images/sec). Model Saved!\n",
      "Epoch 19 completed : 65664 coarse images observed in 70.153553 s (50.988151662111825 images/sec). Model Saved!\n",
      "Epoch 20 completed : 69120 coarse images observed in 70.280235 s (50.896244157407835 images/sec). Model Saved!\n",
      "Epoch 21 completed : 72576 coarse images observed in 73.522776 s (48.651590630908714 images/sec). Model Saved!\n",
      "Epoch 22 completed : 76032 coarse images observed in 107.487211 s (33.27837764810923 images/sec). Model Saved!\n",
      "Epoch 23 completed : 79488 coarse images observed in 117.161183 s (30.53058964076865 images/sec). Model Saved!\n",
      "Epoch 24 completed : 82944 coarse images observed in 100.16014 s (35.71280950685572 images/sec). Model Saved!\n",
      "Epoch 25 completed : 86400 coarse images observed in 71.773114 s (49.83760353493928 images/sec). Model Saved!\n",
      "Epoch 26 completed : 89856 coarse images observed in 99.821457 s (35.833979061235304 images/sec). Model Saved!\n",
      "Epoch 27 completed : 93312 coarse images observed in 97.738436 s (36.5976799546905 images/sec). Model Saved!\n",
      "Epoch 28 completed : 96768 coarse images observed in 114.738686 s (31.17518706811755 images/sec). Model Saved!\n",
      "Epoch 29 completed : 100224 coarse images observed in 113.068898 s (31.635578512492444 images/sec). Model Saved!\n",
      "Epoch 30 completed : 103680 coarse images observed in 128.344389 s (27.870326298409505 images/sec). Model Saved!\n",
      "Epoch 31 completed : 107136 coarse images observed in 126.620704 s (28.2497244684408 images/sec). Model Saved!\n",
      "Epoch 32 completed : 110592 coarse images observed in 134.420405 s (26.61054324304409 images/sec). Model Saved!\n",
      "Epoch 33 completed : 114048 coarse images observed in 124.119396 s (28.81902519087347 images/sec). Model Saved!\n",
      "Epoch 34 completed : 117504 coarse images observed in 145.1884 s (24.63695446743679 images/sec). Model Saved!\n",
      "Epoch 35 completed : 120960 coarse images observed in 152.035804 s (23.527352806974335 images/sec). Model Saved!\n",
      "Epoch 36 completed : 124416 coarse images observed in 139.823596 s (25.58223434619719 images/sec). Model Saved!\n",
      "Epoch 37 completed : 127872 coarse images observed in 124.731756 s (28.67754062566072 images/sec). Model Saved!\n",
      "Epoch 38 completed : 131328 coarse images observed in 104.473576 s (34.2383226166203 images/sec). Model Saved!\n",
      "Epoch 39 completed : 134784 coarse images observed in 147.165672 s (24.30594004286543 images/sec). Model Saved!\n",
      "Epoch 40 completed : 138240 coarse images observed in 134.313559 s (26.631711843775953 images/sec). Model Saved!\n",
      "Epoch 41 completed : 141696 coarse images observed in 131.172286 s (27.26947977410411 images/sec). Model Saved!\n",
      "Epoch 42 completed : 145152 coarse images observed in 84.208764 s (42.47776395340513 images/sec). Model Saved!\n",
      "Epoch 43 completed : 148608 coarse images observed in 73.740573 s (48.50789537531801 images/sec). Model Saved!\n",
      "Epoch 44 completed : 152064 coarse images observed in 97.560783 s (36.664322384538465 images/sec). Model Saved!\n",
      "Epoch 45 completed : 155520 coarse images observed in 101.634467 s (35.19475337042895 images/sec). Model Saved!\n",
      "Epoch 46 completed : 158976 coarse images observed in 68.133024 s (52.50023835724655 images/sec). Model Saved!\n",
      "Epoch 47 completed : 162432 coarse images observed in 71.66494 s (49.91283045796173 images/sec). Model Saved!\n",
      "Epoch 48 completed : 165888 coarse images observed in 69.989386 s (51.1077493950297 images/sec). Model Saved!\n",
      "Epoch 49 completed : 169344 coarse images observed in 72.587433 s (49.27850251985078 images/sec). Model Saved!\n",
      "Epoch 50 completed : 172800 coarse images observed in 84.969292 s (42.097561552001636 images/sec). Model Saved!\n",
      "Epoch 51 completed : 176256 coarse images observed in 82.217556 s (43.50652310803303 images/sec). Model Saved!\n",
      "Epoch 52 completed : 179712 coarse images observed in 128.598839 s (27.815181130834315 images/sec). Model Saved!\n",
      "Epoch 53 completed : 183168 coarse images observed in 147.62423 s (24.230439677822535 images/sec). Model Saved!\n",
      "Epoch 54 completed : 186624 coarse images observed in 149.433971 s (23.936993550147974 images/sec). Model Saved!\n",
      "Epoch 55 completed : 190080 coarse images observed in 156.507554 s (22.855126852215708 images/sec). Model Saved!\n",
      "Epoch 56 completed : 193536 coarse images observed in 150.771642 s (23.724620575532366 images/sec). Model Saved!\n",
      "Epoch 57 completed : 196992 coarse images observed in 142.625179 s (25.07972312518535 images/sec). Model Saved!\n",
      "Epoch 58 completed : 200448 coarse images observed in 123.751091 s (28.904795675700345 images/sec). Model Saved!\n",
      "Epoch 59 completed : 203904 coarse images observed in 113.865971 s (31.414126350356245 images/sec). Model Saved!\n",
      "Epoch 60 completed : 207360 coarse images observed in 83.984956 s (42.59096117166508 images/sec). Model Saved!\n",
      "Epoch 61 completed : 210816 coarse images observed in 87.959808 s (40.66630068132937 images/sec). Model Saved!\n",
      "Epoch 62 completed : 214272 coarse images observed in 110.191346 s (32.4617143709271 images/sec). Model Saved!\n",
      "Epoch 63 completed : 217728 coarse images observed in 103.57927 s (34.533937147848214 images/sec). Model Saved!\n",
      "Epoch 64 completed : 221184 coarse images observed in 93.426262 s (38.28687912184692 images/sec). Model Saved!\n",
      "Epoch 65 completed : 224640 coarse images observed in 102.057883 s (35.048737979407235 images/sec). Model Saved!\n",
      "Epoch 66 completed : 228096 coarse images observed in 69.628623 s (51.37255119923885 images/sec). Model Saved!\n",
      "Epoch 67 completed : 231552 coarse images observed in 69.440855 s (51.511462524474965 images/sec). Model Saved!\n",
      "Epoch 68 completed : 235008 coarse images observed in 73.223576 s (48.85038665688767 images/sec). Model Saved!\n",
      "Epoch 69 completed : 238464 coarse images observed in 71.441116 s (50.069206645652066 images/sec). Model Saved!\n",
      "Epoch 70 completed : 241920 coarse images observed in 72.137403 s (49.58592701209385 images/sec). Model Saved!\n",
      "Epoch 71 completed : 245376 coarse images observed in 72.240584 s (49.51510358775616 images/sec). Model Saved!\n",
      "Epoch 72 completed : 248832 coarse images observed in 71.832559 s (49.79636044986229 images/sec). Model Saved!\n",
      "Epoch 73 completed : 252288 coarse images observed in 75.674876 s (47.26799948770316 images/sec). Model Saved!\n",
      "Epoch 74 completed : 255744 coarse images observed in 73.292089 s (48.80472161190548 images/sec). Model Saved!\n",
      "Epoch 75 completed : 259200 coarse images observed in 74.348366 s (48.11134652239701 images/sec). Model Saved!\n",
      "Epoch 76 completed : 262656 coarse images observed in 101.820216 s (35.13054814183462 images/sec). Model Saved!\n",
      "Epoch 77 completed : 266112 coarse images observed in 70.307433 s (50.876555256966924 images/sec). Model Saved!\n",
      "Epoch 78 completed : 269568 coarse images observed in 74.152147 s (48.238657203007214 images/sec). Model Saved!\n",
      "Epoch 79 completed : 273024 coarse images observed in 84.373061 s (42.39504834368875 images/sec). Model Saved!\n",
      "Epoch 80 completed : 276480 coarse images observed in 71.687861 s (49.89687166143791 images/sec). Model Saved!\n",
      "Epoch 81 completed : 279936 coarse images observed in 69.965321 s (51.125328217961005 images/sec). Model Saved!\n",
      "Epoch 82 completed : 283392 coarse images observed in 72.146838 s (49.57944241437164 images/sec). Model Saved!\n",
      "Epoch 83 completed : 286848 coarse images observed in 75.773446 s (47.20651084022231 images/sec). Model Saved!\n",
      "Epoch 84 completed : 290304 coarse images observed in 73.288112 s (48.807370013843446 images/sec). Model Saved!\n",
      "Epoch 85 completed : 293760 coarse images observed in 77.391234 s (46.21970493454078 images/sec). Model Saved!\n",
      "Epoch 86 completed : 297216 coarse images observed in 79.301323 s (45.10643536174044 images/sec). Model Saved!\n",
      "Epoch 87 completed : 300672 coarse images observed in 74.844483 s (47.792433812389355 images/sec). Model Saved!\n",
      "Epoch 88 completed : 304128 coarse images observed in 72.515605 s (49.32731375543237 images/sec). Model Saved!\n",
      "Epoch 89 completed : 307584 coarse images observed in 75.500185 s (47.377367353470724 images/sec). Model Saved!\n",
      "Epoch 90 completed : 311040 coarse images observed in 75.078592 s (47.64340812358335 images/sec). Model Saved!\n",
      "Epoch 91 completed : 314496 coarse images observed in 72.855734 s (49.09702783311469 images/sec). Model Saved!\n",
      "Epoch 92 completed : 317952 coarse images observed in 100.323264 s (35.6547410578667 images/sec). Model Saved!\n",
      "Epoch 93 completed : 321408 coarse images observed in 69.470126 s (51.48975834591117 images/sec). Model Saved!\n",
      "Epoch 94 completed : 324864 coarse images observed in 65.235352 s (54.83223268267181 images/sec). Model Saved!\n",
      "Epoch 95 completed : 328320 coarse images observed in 67.62021 s (52.89838644393444 images/sec). Model Saved!\n",
      "Epoch 96 completed : 331776 coarse images observed in 78.471742 s (45.58328780314319 images/sec). Model Saved!\n",
      "Epoch 97 completed : 335232 coarse images observed in 112.798875 s (31.711309177507314 images/sec). Model Saved!\n",
      "Epoch 98 completed : 338688 coarse images observed in 107.975074 s (33.12801619381155 images/sec). Model Saved!\n",
      "Epoch 99 completed : 342144 coarse images observed in 115.630678 s (30.9346971052094 images/sec). Model Saved!\n",
      "Epoch 100 completed : 345600 coarse images observed in 106.165662 s (33.69262652928214 images/sec). Model Saved!\n"
     ]
    }
   ],
   "source": [
    "%run -i 'FishyFish/FishyFish_SESSION.py'"
   ]
  },
  {
   "cell_type": "markdown",
   "metadata": {},
   "source": [
    "## Predict Stage 2 Test set"
   ]
  },
  {
   "cell_type": "markdown",
   "metadata": {},
   "source": [
    "#### Delete unneeded objects"
   ]
  },
  {
   "cell_type": "code",
   "execution_count": 19,
   "metadata": {
    "collapsed": true
   },
   "outputs": [],
   "source": [
    "del box_preds \n",
    "del labels_df \n",
    "del annotated_boxes\n",
    "del embedding_df \n",
    "del FiNoF_prob "
   ]
  },
  {
   "cell_type": "markdown",
   "metadata": {},
   "source": [
    "#### Load dataframes"
   ]
  },
  {
   "cell_type": "code",
   "execution_count": 26,
   "metadata": {
    "collapsed": false
   },
   "outputs": [],
   "source": [
    "t_embedding_df = pd.read_pickle('test_embeddings_df.pickle')\n",
    "t_FiNoF_df = pd.read_pickle('test_FiNoF_dataframe.pickle')"
   ]
  },
  {
   "cell_type": "code",
   "execution_count": 27,
   "metadata": {
    "collapsed": false
   },
   "outputs": [
    {
     "data": {
      "text/html": [
       "<div>\n",
       "<table border=\"1\" class=\"dataframe\">\n",
       "  <thead>\n",
       "    <tr style=\"text-align: right;\">\n",
       "      <th></th>\n",
       "      <th>FiNoF</th>\n",
       "    </tr>\n",
       "  </thead>\n",
       "  <tbody>\n",
       "    <tr>\n",
       "      <th>data/test_stg2/image_00001.jpg</th>\n",
       "      <td>0.841103</td>\n",
       "    </tr>\n",
       "    <tr>\n",
       "      <th>data/test_stg2/image_00002.jpg</th>\n",
       "      <td>0.882154</td>\n",
       "    </tr>\n",
       "    <tr>\n",
       "      <th>data/test_stg2/image_00003.jpg</th>\n",
       "      <td>0.833156</td>\n",
       "    </tr>\n",
       "    <tr>\n",
       "      <th>data/test_stg2/image_00004.jpg</th>\n",
       "      <td>0.626342</td>\n",
       "    </tr>\n",
       "    <tr>\n",
       "      <th>data/test_stg2/image_00005.jpg</th>\n",
       "      <td>0.810221</td>\n",
       "    </tr>\n",
       "  </tbody>\n",
       "</table>\n",
       "</div>"
      ],
      "text/plain": [
       "                                   FiNoF\n",
       "data/test_stg2/image_00001.jpg  0.841103\n",
       "data/test_stg2/image_00002.jpg  0.882154\n",
       "data/test_stg2/image_00003.jpg  0.833156\n",
       "data/test_stg2/image_00004.jpg  0.626342\n",
       "data/test_stg2/image_00005.jpg  0.810221"
      ]
     },
     "execution_count": 27,
     "metadata": {},
     "output_type": "execute_result"
    }
   ],
   "source": [
    "t_FiNoF_df.head()"
   ]
  },
  {
   "cell_type": "code",
   "execution_count": 28,
   "metadata": {
    "collapsed": false
   },
   "outputs": [
    {
     "name": "stdout",
     "output_type": "stream",
     "text": [
      "12154\n",
      "12153\n"
     ]
    }
   ],
   "source": [
    "test_fnames = fd.generate_filenames_list('data/test_stg2/', False)\n",
    "print(len(test_fnames))\n",
    "test_fnames.remove('data/test_stg2/.DS_Store')\n",
    "print(len(test_fnames))"
   ]
  },
  {
   "cell_type": "code",
   "execution_count": 34,
   "metadata": {
    "collapsed": true
   },
   "outputs": [],
   "source": [
    "fov_crop = 64\n",
    "batch_size = 128"
   ]
  },
  {
   "cell_type": "code",
   "execution_count": 31,
   "metadata": {
    "collapsed": true
   },
   "outputs": [],
   "source": [
    "from scipy import misc"
   ]
  },
  {
   "cell_type": "code",
   "execution_count": 41,
   "metadata": {
    "collapsed": false
   },
   "outputs": [
    {
     "name": "stdout",
     "output_type": "stream",
     "text": [
      "Tensor(\"Training/Network/concat:0\", shape=(128, 289), dtype=float32)\n",
      "Tensor(\"Validation/Network/concat:0\", shape=(200, 289), dtype=float32)\n",
      "Tensor(\"Prediction/Network/concat:0\", shape=(?, 289), dtype=float32)\n"
     ]
    }
   ],
   "source": [
    "%run -i 'FishyFish/FishyFish_GRAPH.py'"
   ]
  },
  {
   "cell_type": "code",
   "execution_count": 46,
   "metadata": {
    "collapsed": false
   },
   "outputs": [
    {
     "name": "stdout",
     "output_type": "stream",
     "text": [
      "Loading FishyFish version v1.0\n",
      "Metadata dictionary loaded!\n",
      "Initializing restorer...\n",
      "Weights and biases retrieved!  Picking up at 100 epochs completed : 345600 training images observed\n",
      "Checkpoint saver initialized!\n",
      "\n",
      "Tensorboard initialized!\n",
      "To view your tensorboard dashboard summary, run the following on the command line:\n",
      "\n",
      "tensorboard --logdir='/Users/ccthomps/Documents/ML_Projects/Kaggle Competitions/FF3/FishyFish/v1.0/Tensorboard_logs'\n",
      "\n",
      "\n",
      "TRAINING FishyFish v1.0...\n"
     ]
    }
   ],
   "source": [
    "%run -i 'FishyFish/FishyFish_SESSION.py'"
   ]
  },
  {
   "cell_type": "markdown",
   "metadata": {},
   "source": [
    "### New Session Call"
   ]
  },
  {
   "cell_type": "code",
   "execution_count": 43,
   "metadata": {
    "collapsed": false,
    "scrolled": false
   },
   "outputs": [
    {
     "name": "stdout",
     "output_type": "stream",
     "text": [
      "Loading FishyFish version v1.0\n",
      "Metadata dictionary loaded!\n",
      "Initializing restorer...\n",
      "Weights and biases retrieved!  Picking up at 100 epochs completed : 345600 training images observed\n",
      "Running Predictor on Test Stage 2 images...\n",
      "0 Images Predicted\n",
      "Empty DataFrame\n",
      "Columns: [ALB, BET, DOL, LAG, OTHER, SHARK, YFT, NoF]\n",
      "Index: []\n",
      "1000 Images Predicted\n",
      "                    ALB       BET       DOL       LAG     OTHER     SHARK  \\\n",
      "img_00892.jpg  0.548212  0.026032  0.017724  0.014391  0.079373  0.019568   \n",
      "img_00893.jpg  0.586959  0.040778  0.007689  0.008119  0.050512  0.026874   \n",
      "img_00894.jpg  0.641482  0.027025  0.011967  0.018537  0.058704  0.030805   \n",
      "img_00895.jpg  0.497042  0.027035  0.010030  0.010612  0.067048  0.020047   \n",
      "img_00896.jpg  0.475203  0.020909  0.013028  0.012355  0.083507  0.027271   \n",
      "\n",
      "                    YFT       NoF  \n",
      "img_00892.jpg  0.239968  0.054732  \n",
      "img_00893.jpg  0.156802  0.122267  \n",
      "img_00894.jpg  0.132384  0.079095  \n",
      "img_00895.jpg  0.293905  0.074281  \n",
      "img_00896.jpg  0.272877  0.094850  \n",
      "2000 Images Predicted\n",
      "                    ALB       BET       DOL       LAG     OTHER     SHARK  \\\n",
      "img_01916.jpg  0.439118  0.049628  0.007612  0.020103  0.028987  0.020029   \n",
      "img_01917.jpg  0.449141  0.029009  0.011212  0.009967  0.086505  0.016700   \n",
      "img_01918.jpg  0.520921  0.021662  0.008974  0.011113  0.042640  0.015990   \n",
      "img_01919.jpg  0.473394  0.031073  0.009401  0.015178  0.069848  0.033186   \n",
      "img_01920.jpg  0.522760  0.020127  0.020253  0.009733  0.065513  0.025393   \n",
      "\n",
      "                    YFT       NoF  \n",
      "img_01916.jpg  0.154098  0.280424  \n",
      "img_01917.jpg  0.319454  0.078012  \n",
      "img_01918.jpg  0.298580  0.080119  \n",
      "img_01919.jpg  0.205408  0.162513  \n",
      "img_01920.jpg  0.246646  0.089574  \n",
      "3000 Images Predicted\n",
      "                    ALB       BET       DOL       LAG     OTHER     SHARK  \\\n",
      "img_02940.jpg  0.507184  0.023113  0.015783  0.011007  0.066569  0.026340   \n",
      "img_02941.jpg  0.586008  0.031865  0.012903  0.021995  0.073690  0.027100   \n",
      "img_02942.jpg  0.530859  0.035526  0.014549  0.013377  0.053071  0.028211   \n",
      "img_02943.jpg  0.481505  0.031022  0.013389  0.009811  0.082675  0.034315   \n",
      "img_02944.jpg  0.513472  0.024519  0.014207  0.010819  0.101862  0.024255   \n",
      "\n",
      "                    YFT       NoF  \n",
      "img_02940.jpg  0.244723  0.105281  \n",
      "img_02941.jpg  0.181136  0.065303  \n",
      "img_02942.jpg  0.216156  0.108252  \n",
      "img_02943.jpg  0.272199  0.075084  \n",
      "img_02944.jpg  0.231799  0.079067  \n",
      "4000 Images Predicted\n",
      "                    ALB       BET       DOL       LAG     OTHER     SHARK  \\\n",
      "img_03964.jpg  0.600286  0.026183  0.015156  0.009483  0.080950  0.021360   \n",
      "img_03965.jpg  0.471322  0.028535  0.012395  0.009536  0.065507  0.029455   \n",
      "img_03966.jpg  0.559541  0.030839  0.010752  0.009749  0.057506  0.027283   \n",
      "img_03967.jpg  0.537294  0.022436  0.014580  0.008989  0.062346  0.026250   \n",
      "img_03968.jpg  0.405958  0.036822  0.009744  0.010393  0.053051  0.015248   \n",
      "\n",
      "                    YFT       NoF  \n",
      "img_03964.jpg  0.154934  0.091648  \n",
      "img_03965.jpg  0.270486  0.112762  \n",
      "img_03966.jpg  0.247135  0.057194  \n",
      "img_03967.jpg  0.186519  0.141586  \n",
      "img_03968.jpg  0.351791  0.116993  \n",
      "5000 Images Predicted\n",
      "                    ALB       BET       DOL       LAG     OTHER     SHARK  \\\n",
      "img_04988.jpg  0.452699  0.042815  0.009141  0.010568  0.084922  0.009427   \n",
      "img_04989.jpg  0.530288  0.015184  0.009269  0.010955  0.059753  0.022633   \n",
      "img_04990.jpg  0.484830  0.031943  0.008912  0.007902  0.050407  0.024309   \n",
      "img_04991.jpg  0.453591  0.020672  0.009368  0.011554  0.109734  0.057790   \n",
      "img_04992.jpg  0.508108  0.017912  0.016713  0.010634  0.090043  0.022749   \n",
      "\n",
      "                    YFT       NoF  \n",
      "img_04988.jpg  0.298338  0.092091  \n",
      "img_04989.jpg  0.218499  0.133419  \n",
      "img_04990.jpg  0.195703  0.195994  \n",
      "img_04991.jpg  0.175242  0.162049  \n",
      "img_04992.jpg  0.268302  0.065539  \n",
      "6000 Images Predicted\n",
      "                    ALB       BET       DOL       LAG     OTHER     SHARK  \\\n",
      "img_05884.jpg  0.561431  0.039788  0.024807  0.009061  0.044226  0.015710   \n",
      "img_05885.jpg  0.497362  0.023216  0.006052  0.010408  0.057998  0.024822   \n",
      "img_05886.jpg  0.407868  0.028932  0.013444  0.014148  0.058078  0.032023   \n",
      "img_05887.jpg  0.486716  0.025707  0.007329  0.012358  0.059483  0.037140   \n",
      "img_05888.jpg  0.470501  0.031920  0.017616  0.012963  0.055376  0.021475   \n",
      "\n",
      "                    YFT       NoF  \n",
      "img_05884.jpg  0.162651  0.142326  \n",
      "img_05885.jpg  0.214191  0.165950  \n",
      "img_05886.jpg  0.313857  0.131651  \n",
      "img_05887.jpg  0.202375  0.168892  \n",
      "img_05888.jpg  0.288264  0.101887  \n",
      "7000 Images Predicted\n",
      "                    ALB       BET       DOL       LAG     OTHER     SHARK  \\\n",
      "img_06908.jpg  0.485914  0.020670  0.012733  0.010113  0.060891  0.023944   \n",
      "img_06909.jpg  0.600976  0.029035  0.009053  0.008179  0.076223  0.014715   \n",
      "img_06910.jpg  0.632858  0.019740  0.013299  0.012531  0.074647  0.027071   \n",
      "img_06911.jpg  0.545158  0.028617  0.010175  0.009518  0.073780  0.027140   \n",
      "img_06912.jpg  0.523014  0.028191  0.011235  0.008596  0.080178  0.019092   \n",
      "\n",
      "                    YFT       NoF  \n",
      "img_06908.jpg  0.222240  0.163495  \n",
      "img_06909.jpg  0.213531  0.048288  \n",
      "img_06910.jpg  0.138592  0.081263  \n",
      "img_06911.jpg  0.234250  0.071360  \n",
      "img_06912.jpg  0.229032  0.100663  \n",
      "8000 Images Predicted\n",
      "                    ALB       BET       DOL       LAG     OTHER     SHARK  \\\n",
      "img_07932.jpg  0.539832  0.027644  0.010796  0.008890  0.075879  0.022015   \n",
      "img_07933.jpg  0.632007  0.029735  0.013444  0.010845  0.082393  0.020990   \n",
      "img_07934.jpg  0.476890  0.019402  0.013280  0.013551  0.084326  0.031248   \n",
      "img_07935.jpg  0.573115  0.019670  0.013532  0.010889  0.092851  0.021619   \n",
      "img_07936.jpg  0.567742  0.049877  0.006606  0.013449  0.049451  0.017647   \n",
      "\n",
      "                    YFT       NoF  \n",
      "img_07932.jpg  0.224075  0.090870  \n",
      "img_07933.jpg  0.152151  0.058434  \n",
      "img_07934.jpg  0.281887  0.079415  \n",
      "img_07935.jpg  0.199495  0.068828  \n",
      "img_07936.jpg  0.146367  0.148862  \n",
      "9000 Images Predicted\n",
      "                    ALB       BET       DOL       LAG     OTHER     SHARK  \\\n",
      "img_08956.jpg  0.429894  0.027080  0.020781  0.011523  0.074589  0.032179   \n",
      "img_08957.jpg  0.509480  0.026776  0.013737  0.007308  0.066516  0.015618   \n",
      "img_08958.jpg  0.535213  0.031947  0.017266  0.017529  0.061110  0.029688   \n",
      "img_08959.jpg  0.481516  0.012168  0.023926  0.007593  0.048964  0.037711   \n",
      "img_08960.jpg  0.419440  0.028885  0.013161  0.010266  0.077646  0.024703   \n",
      "\n",
      "                    YFT       NoF  \n",
      "img_08956.jpg  0.358111  0.045843  \n",
      "img_08957.jpg  0.276782  0.083782  \n",
      "img_08958.jpg  0.239794  0.067452  \n",
      "img_08959.jpg  0.187254  0.200868  \n",
      "img_08960.jpg  0.362019  0.063880  \n",
      "10000 Images Predicted\n",
      "                    ALB       BET       DOL       LAG     OTHER     SHARK  \\\n",
      "img_09980.jpg  0.527490  0.019519  0.013273  0.020200  0.071943  0.043845   \n",
      "img_09981.jpg  0.480719  0.044309  0.015355  0.011965  0.044212  0.017764   \n",
      "img_09982.jpg  0.578249  0.027063  0.005311  0.010927  0.046160  0.029799   \n",
      "img_09983.jpg  0.527908  0.021187  0.015235  0.008045  0.110802  0.027843   \n",
      "img_09984.jpg  0.426942  0.022434  0.014834  0.011817  0.070278  0.043670   \n",
      "\n",
      "                    YFT       NoF  \n",
      "img_09980.jpg  0.217371  0.086360  \n",
      "img_09981.jpg  0.247382  0.138294  \n",
      "img_09982.jpg  0.127530  0.174961  \n",
      "img_09983.jpg  0.201041  0.087939  \n",
      "img_09984.jpg  0.290141  0.119882  \n",
      "11000 Images Predicted\n",
      "                    ALB       BET       DOL       LAG     OTHER     SHARK  \\\n",
      "img_10876.jpg  0.549532  0.024659  0.010811  0.008734  0.092550  0.022281   \n",
      "img_10877.jpg  0.636875  0.031361  0.007174  0.006984  0.081627  0.022453   \n",
      "img_10878.jpg  0.656150  0.030374  0.011905  0.011270  0.096583  0.013242   \n",
      "img_10879.jpg  0.493195  0.038606  0.032235  0.012252  0.075731  0.052649   \n",
      "img_10880.jpg  0.482187  0.066205  0.010091  0.012455  0.090564  0.004780   \n",
      "\n",
      "                    YFT       NoF  \n",
      "img_10876.jpg  0.229109  0.062324  \n",
      "img_10877.jpg  0.122053  0.091473  \n",
      "img_10878.jpg  0.112739  0.067737  \n",
      "img_10879.jpg  0.226444  0.068888  \n",
      "img_10880.jpg  0.249002  0.084717  \n",
      "12000 Images Predicted\n",
      "                    ALB       BET       DOL       LAG     OTHER     SHARK  \\\n",
      "img_11900.jpg  0.522988  0.017091  0.010601  0.010536  0.050820  0.026943   \n",
      "img_11901.jpg  0.426098  0.029772  0.009316  0.017706  0.066716  0.019515   \n",
      "img_11902.jpg  0.493849  0.031027  0.008757  0.014609  0.061136  0.013820   \n",
      "img_11903.jpg  0.473765  0.013482  0.018628  0.013548  0.033262  0.042659   \n",
      "img_11904.jpg  0.444062  0.016061  0.015421  0.012142  0.117310  0.024748   \n",
      "\n",
      "                    YFT       NoF  \n",
      "img_11900.jpg  0.249708  0.111312  \n",
      "img_11901.jpg  0.346930  0.083947  \n",
      "img_11902.jpg  0.255138  0.121663  \n",
      "img_11903.jpg  0.146467  0.258188  \n",
      "img_11904.jpg  0.289538  0.080718  \n",
      "Last batch!\n",
      "Predictions dataframe completed: (12153, 8)\n"
     ]
    }
   ],
   "source": [
    "initiate_FishyFish = False\n",
    "with tf.Session(graph = fishyfish) as session :\n",
    "\n",
    "    # check for metadata dictionary\n",
    "    if 'meta_dictionary.pickle' in os.listdir(md) and initiate_FishyFish != True:\n",
    "        print(\"Loading FishyFish version {}\".format(version_ID))\n",
    "        with open(md+'/meta_dictionary.pickle', 'rb') as  handle :\n",
    "            meta_dict = pickle.load(handle)\n",
    "        print(\"Metadata dictionary loaded!\")\n",
    "        total_fovea = meta_dict.get(np.max([key for key in meta_dict])).get('examples_trained')\n",
    "        epochs_completed = meta_dict.get(np.max([key for key in meta_dict])).get('Num_epochs')\n",
    "        restorer = tf.train.Saver()\n",
    "        print(\"Initializing restorer...\")\n",
    "        restorer.restore(session, tf.train.latest_checkpoint(md))\n",
    "        print(\"Weights and biases retrieved!  Picking up at {} epochs completed : {} training images observed\".format(epochs_completed, total_fovea))\n",
    "    \n",
    "    print(\"Running Predictor on Test Stage 2 images...\")\n",
    "    \n",
    "    keys_list = test_fnames.copy()\n",
    "    \n",
    "    predictions = pd.DataFrame([], columns = ['ALB', 'BET', 'DOL', 'LAG', 'OTHER', 'SHARK', 'YFT', 'NoF'], index = [])\n",
    "    cursor = 0\n",
    "    while len(keys_list) > batch_size :\n",
    "        batch_keys = []\n",
    "        for _ in range(batch_size) :\n",
    "            batch_keys.append(keys_list.pop(0))\n",
    "        \n",
    "        batch_embeddings = np.array(t_embedding_df.loc[batch_keys, :])\n",
    "        batch_FiNoF = np.array(t_FiNoF_df.loc[batch_keys, :])\n",
    "        \n",
    "        for i,key in enumerate(batch_keys) :\n",
    "            new_key = 'data/predicted_fovea_test_stg2/'+key[15:]\n",
    "            fov = misc.imread(new_key, mode = 'RGB')\n",
    "            \n",
    "            rand_y = np.random.randint(0,8)\n",
    "            rand_x = np.random.randint(0,8)\n",
    "            fov = fov[rand_y:rand_y+fov_crop, rand_x:rand_x+fov_crop, :]\n",
    "            fov = fd.process_fovea(fov, pixel_norm = 'centre', mutation = False)\n",
    "            \n",
    "            if fov.shape[0] != fov_crop or fov.shape[1] != fov_crop :\n",
    "                fov = misc.imresize(fov, size = [fov_crop, fov_crop, 3])\n",
    "\n",
    "            if i == 0 :\n",
    "                fov_stack = np.expand_dims(fov, 0)\n",
    "            else :\n",
    "                fov_stack = np.concatenate([fov_stack, np.expand_dims(fov, 0)], 0)\n",
    "        \n",
    "                \n",
    "            if cursor % 1000 == 0 :\n",
    "                print(\"{} Images Predicted\".format(cursor))\n",
    "                print(predictions.tail())\n",
    "            cursor += 1\n",
    "        \n",
    "        feed_dict = {test_fovea : fov_stack,\n",
    "                     test_embedding : batch_embeddings    ,\n",
    "                     test_fish_prob : batch_FiNoF   }\n",
    "        batch_predictions = session.run(test_predictions, feed_dict = feed_dict)\n",
    "        \n",
    "        predictions = predictions.append(pd.DataFrame(batch_predictions, columns = ['ALB', 'BET', 'DOL', 'LAG', 'OTHER', 'SHARK', 'YFT', 'NoF'],\n",
    "                                                                         index = ['img'+key[20:] for key in batch_keys]))\n",
    "    # last session call with keys_list is less than batch size\n",
    "    print(\"Last batch!\")\n",
    "    batch_embeddings = np.array(t_embedding_df.loc[keys_list, :])\n",
    "    batch_FiNoF = np.array(t_FiNoF_df.loc[keys_list, :])\n",
    "    \n",
    "    for i, key in enumerate(keys_list) : \n",
    "        new_key = 'data/predicted_fovea_test_stg2/'+key[15:]\n",
    "        fov = misc.imread(new_key, mode = 'RGB')\n",
    "\n",
    "        rand_y = np.random.randint(0,8)\n",
    "        rand_x = np.random.randint(0,8)\n",
    "        fov = fov[rand_y:rand_y+fov_crop, rand_x:rand_x+fov_crop, :]\n",
    "        fov = fd.process_fovea(fov, pixel_norm = 'centre', mutation = False)\n",
    "\n",
    "        if fov.shape[0] != fov_crop or fov.shape[1] != fov_crop :\n",
    "            fov = misc.imresize(fov, size = [fov_crop, fov_crop, 3])\n",
    "\n",
    "        if i == 0 :\n",
    "            fov_stack = np.expand_dims(fov, 0)\n",
    "        else :\n",
    "            fov_stack = np.concatenate([fov_stack, np.expand_dims(fov, 0)], 0)\n",
    "\n",
    "    \n",
    "    feed_dict = {test_fovea : fov_stack,\n",
    "                 test_embedding : batch_embeddings ,\n",
    "                 test_fish_prob : batch_FiNoF   }\n",
    "    batch_predictions = session.run(test_predictions, feed_dict = feed_dict)\n",
    "        \n",
    "    predictions = predictions.append(pd.DataFrame(batch_predictions, columns = ['ALB', 'BET', 'DOL', 'LAG', 'OTHER', 'SHARK', 'YFT', 'NoF'],\n",
    "                                                                         index = ['img'+key[20:] for key in keys_list]))\n",
    "    print(\"Predictions dataframe completed: {}\".format(predictions.shape))"
   ]
  },
  {
   "cell_type": "code",
   "execution_count": 44,
   "metadata": {
    "collapsed": false
   },
   "outputs": [
    {
     "name": "stdout",
     "output_type": "stream",
     "text": [
      "(12153, 8)\n",
      "                    ALB       BET       DOL       LAG       NoF     OTHER  \\\n",
      "img_00001.jpg  0.535022  0.028432  0.014646  0.010732  0.055540  0.105633   \n",
      "img_00002.jpg  0.570507  0.032258  0.016639  0.011342  0.087563  0.084693   \n",
      "img_00003.jpg  0.471532  0.019831  0.013213  0.008973  0.179539  0.057357   \n",
      "img_00004.jpg  0.460593  0.022332  0.010387  0.010235  0.125917  0.100986   \n",
      "img_00005.jpg  0.627514  0.033911  0.012950  0.008420  0.097066  0.051287   \n",
      "\n",
      "                  SHARK       YFT  \n",
      "img_00001.jpg  0.022855  0.227140  \n",
      "img_00002.jpg  0.023967  0.173033  \n",
      "img_00003.jpg  0.042900  0.206654  \n",
      "img_00004.jpg  0.026336  0.243214  \n",
      "img_00005.jpg  0.020732  0.148121  \n"
     ]
    }
   ],
   "source": [
    "predictions = predictions[['ALB', 'BET', 'DOL', 'LAG', 'NoF', 'OTHER', 'SHARK', 'YFT']]\n",
    "print(predictions.shape)\n",
    "print(predictions.head())"
   ]
  },
  {
   "cell_type": "code",
   "execution_count": 45,
   "metadata": {
    "collapsed": true
   },
   "outputs": [],
   "source": [
    "predictions.to_csv('submission1.gzip', header = True, index_label = 'image', compression = 'gzip')"
   ]
  },
  {
   "cell_type": "code",
   "execution_count": 47,
   "metadata": {
    "collapsed": false
   },
   "outputs": [
    {
     "data": {
      "text/html": [
       "<div>\n",
       "<table border=\"1\" class=\"dataframe\">\n",
       "  <thead>\n",
       "    <tr style=\"text-align: right;\">\n",
       "      <th></th>\n",
       "      <th>ALB</th>\n",
       "      <th>BET</th>\n",
       "      <th>DOL</th>\n",
       "      <th>LAG</th>\n",
       "      <th>NoF</th>\n",
       "      <th>OTHER</th>\n",
       "      <th>SHARK</th>\n",
       "      <th>YFT</th>\n",
       "    </tr>\n",
       "  </thead>\n",
       "  <tbody>\n",
       "    <tr>\n",
       "      <th>img_00001.jpg</th>\n",
       "      <td>0.535022</td>\n",
       "      <td>0.028432</td>\n",
       "      <td>0.014646</td>\n",
       "      <td>0.010732</td>\n",
       "      <td>0.055540</td>\n",
       "      <td>0.105633</td>\n",
       "      <td>0.022855</td>\n",
       "      <td>0.227140</td>\n",
       "    </tr>\n",
       "    <tr>\n",
       "      <th>img_00002.jpg</th>\n",
       "      <td>0.570507</td>\n",
       "      <td>0.032258</td>\n",
       "      <td>0.016639</td>\n",
       "      <td>0.011342</td>\n",
       "      <td>0.087563</td>\n",
       "      <td>0.084693</td>\n",
       "      <td>0.023967</td>\n",
       "      <td>0.173033</td>\n",
       "    </tr>\n",
       "    <tr>\n",
       "      <th>img_00003.jpg</th>\n",
       "      <td>0.471532</td>\n",
       "      <td>0.019831</td>\n",
       "      <td>0.013213</td>\n",
       "      <td>0.008973</td>\n",
       "      <td>0.179539</td>\n",
       "      <td>0.057357</td>\n",
       "      <td>0.042900</td>\n",
       "      <td>0.206654</td>\n",
       "    </tr>\n",
       "    <tr>\n",
       "      <th>img_00004.jpg</th>\n",
       "      <td>0.460593</td>\n",
       "      <td>0.022332</td>\n",
       "      <td>0.010387</td>\n",
       "      <td>0.010235</td>\n",
       "      <td>0.125917</td>\n",
       "      <td>0.100986</td>\n",
       "      <td>0.026336</td>\n",
       "      <td>0.243214</td>\n",
       "    </tr>\n",
       "    <tr>\n",
       "      <th>img_00005.jpg</th>\n",
       "      <td>0.627514</td>\n",
       "      <td>0.033911</td>\n",
       "      <td>0.012950</td>\n",
       "      <td>0.008420</td>\n",
       "      <td>0.097066</td>\n",
       "      <td>0.051287</td>\n",
       "      <td>0.020732</td>\n",
       "      <td>0.148121</td>\n",
       "    </tr>\n",
       "  </tbody>\n",
       "</table>\n",
       "</div>"
      ],
      "text/plain": [
       "                    ALB       BET       DOL       LAG       NoF     OTHER  \\\n",
       "img_00001.jpg  0.535022  0.028432  0.014646  0.010732  0.055540  0.105633   \n",
       "img_00002.jpg  0.570507  0.032258  0.016639  0.011342  0.087563  0.084693   \n",
       "img_00003.jpg  0.471532  0.019831  0.013213  0.008973  0.179539  0.057357   \n",
       "img_00004.jpg  0.460593  0.022332  0.010387  0.010235  0.125917  0.100986   \n",
       "img_00005.jpg  0.627514  0.033911  0.012950  0.008420  0.097066  0.051287   \n",
       "\n",
       "                  SHARK       YFT  \n",
       "img_00001.jpg  0.022855  0.227140  \n",
       "img_00002.jpg  0.023967  0.173033  \n",
       "img_00003.jpg  0.042900  0.206654  \n",
       "img_00004.jpg  0.026336  0.243214  \n",
       "img_00005.jpg  0.020732  0.148121  "
      ]
     },
     "execution_count": 47,
     "metadata": {},
     "output_type": "execute_result"
    }
   ],
   "source": [
    "predictions.head()"
   ]
  },
  {
   "cell_type": "code",
   "execution_count": 48,
   "metadata": {
    "collapsed": true
   },
   "outputs": [],
   "source": [
    "preds_test = pd.read_csv('submission1.csv')"
   ]
  },
  {
   "cell_type": "code",
   "execution_count": 74,
   "metadata": {
    "collapsed": false
   },
   "outputs": [
    {
     "data": {
      "text/html": [
       "<div>\n",
       "<table border=\"1\" class=\"dataframe\">\n",
       "  <thead>\n",
       "    <tr style=\"text-align: right;\">\n",
       "      <th></th>\n",
       "      <th>image</th>\n",
       "      <th>ALB</th>\n",
       "      <th>BET</th>\n",
       "      <th>DOL</th>\n",
       "      <th>LAG</th>\n",
       "      <th>NoF</th>\n",
       "      <th>OTHER</th>\n",
       "      <th>SHARK</th>\n",
       "      <th>YFT</th>\n",
       "    </tr>\n",
       "  </thead>\n",
       "  <tbody>\n",
       "    <tr>\n",
       "      <th>12148</th>\n",
       "      <td>img_12149.jpg</td>\n",
       "      <td>0.590766</td>\n",
       "      <td>0.026334</td>\n",
       "      <td>0.009492</td>\n",
       "      <td>0.010876</td>\n",
       "      <td>0.096344</td>\n",
       "      <td>0.083578</td>\n",
       "      <td>0.014749</td>\n",
       "      <td>0.167859</td>\n",
       "    </tr>\n",
       "    <tr>\n",
       "      <th>12149</th>\n",
       "      <td>img_12150.jpg</td>\n",
       "      <td>0.513181</td>\n",
       "      <td>0.019348</td>\n",
       "      <td>0.012869</td>\n",
       "      <td>0.008757</td>\n",
       "      <td>0.172034</td>\n",
       "      <td>0.048063</td>\n",
       "      <td>0.033198</td>\n",
       "      <td>0.192550</td>\n",
       "    </tr>\n",
       "    <tr>\n",
       "      <th>12150</th>\n",
       "      <td>img_12151.jpg</td>\n",
       "      <td>0.587970</td>\n",
       "      <td>0.016504</td>\n",
       "      <td>0.014765</td>\n",
       "      <td>0.010676</td>\n",
       "      <td>0.120458</td>\n",
       "      <td>0.070770</td>\n",
       "      <td>0.020984</td>\n",
       "      <td>0.157875</td>\n",
       "    </tr>\n",
       "    <tr>\n",
       "      <th>12151</th>\n",
       "      <td>img_12152.jpg</td>\n",
       "      <td>0.538854</td>\n",
       "      <td>0.022332</td>\n",
       "      <td>0.011924</td>\n",
       "      <td>0.019628</td>\n",
       "      <td>0.090406</td>\n",
       "      <td>0.081634</td>\n",
       "      <td>0.031350</td>\n",
       "      <td>0.203869</td>\n",
       "    </tr>\n",
       "    <tr>\n",
       "      <th>12152</th>\n",
       "      <td>img_12153.jpg</td>\n",
       "      <td>0.666385</td>\n",
       "      <td>0.027590</td>\n",
       "      <td>0.012147</td>\n",
       "      <td>0.008350</td>\n",
       "      <td>0.082996</td>\n",
       "      <td>0.062171</td>\n",
       "      <td>0.021622</td>\n",
       "      <td>0.118739</td>\n",
       "    </tr>\n",
       "  </tbody>\n",
       "</table>\n",
       "</div>"
      ],
      "text/plain": [
       "               image       ALB       BET       DOL       LAG       NoF  \\\n",
       "12148  img_12149.jpg  0.590766  0.026334  0.009492  0.010876  0.096344   \n",
       "12149  img_12150.jpg  0.513181  0.019348  0.012869  0.008757  0.172034   \n",
       "12150  img_12151.jpg  0.587970  0.016504  0.014765  0.010676  0.120458   \n",
       "12151  img_12152.jpg  0.538854  0.022332  0.011924  0.019628  0.090406   \n",
       "12152  img_12153.jpg  0.666385  0.027590  0.012147  0.008350  0.082996   \n",
       "\n",
       "          OTHER     SHARK       YFT  \n",
       "12148  0.083578  0.014749  0.167859  \n",
       "12149  0.048063  0.033198  0.192550  \n",
       "12150  0.070770  0.020984  0.157875  \n",
       "12151  0.081634  0.031350  0.203869  \n",
       "12152  0.062171  0.021622  0.118739  "
      ]
     },
     "execution_count": 74,
     "metadata": {},
     "output_type": "execute_result"
    }
   ],
   "source": [
    "preds_test.tail()"
   ]
  },
  {
   "cell_type": "code",
   "execution_count": 51,
   "metadata": {
    "collapsed": false
   },
   "outputs": [
    {
     "data": {
      "text/plain": [
       "['.DS_Store',\n",
       " '.git',\n",
       " '.ipynb_checkpoints',\n",
       " '__pycache__',\n",
       " 'annotated_boxes.pickle',\n",
       " 'Box Annotations.ipynb',\n",
       " 'box_preds.pickle',\n",
       " 'data',\n",
       " 'embedding_dataframe.pickle',\n",
       " 'FiNoF_prob.pickle',\n",
       " 'fish_data.py',\n",
       " 'Fishery Data Exploration and Preprocessing.ipynb',\n",
       " 'FishFinder',\n",
       " 'FishFinder_Model_v1.0.ipynb',\n",
       " 'FishFinder_Model_v1.1.ipynb',\n",
       " 'FishFinder_Model_v1.2.ipynb',\n",
       " 'FishNoF',\n",
       " 'FishNoF_Model.ipynb',\n",
       " 'FishyFish',\n",
       " 'FishyFish Data Retrieval.ipynb',\n",
       " 'label_dictionary.pickle',\n",
       " 'onehot_df.pickle',\n",
       " 'prediction_dictionary.pickle',\n",
       " 'sample_submission_stg1.csv',\n",
       " 'sample_submission_stg2.csv',\n",
       " 'sample_submission_stg2.csv.zip',\n",
       " 'Store_coarse_images.ipynb',\n",
       " 'submission1.csv',\n",
       " 'submission1.gzip',\n",
       " 'test_box_preds_df.pickle',\n",
       " 'test_embeddings_df.pickle',\n",
       " 'test_FiNoF_dataframe.pickle',\n",
       " 'Train FishyFish v1.0.ipynb']"
      ]
     },
     "execution_count": 51,
     "metadata": {},
     "output_type": "execute_result"
    }
   ],
   "source": [
    "os.listdir()"
   ]
  },
  {
   "cell_type": "code",
   "execution_count": 59,
   "metadata": {
    "collapsed": true
   },
   "outputs": [],
   "source": [
    "empty = pd.read_csv('sample_submission_stg1.csv')"
   ]
  },
  {
   "cell_type": "code",
   "execution_count": 60,
   "metadata": {
    "collapsed": false
   },
   "outputs": [
    {
     "data": {
      "text/html": [
       "<div>\n",
       "<table border=\"1\" class=\"dataframe\">\n",
       "  <thead>\n",
       "    <tr style=\"text-align: right;\">\n",
       "      <th></th>\n",
       "      <th>image</th>\n",
       "      <th>ALB</th>\n",
       "      <th>BET</th>\n",
       "      <th>DOL</th>\n",
       "      <th>LAG</th>\n",
       "      <th>NoF</th>\n",
       "      <th>OTHER</th>\n",
       "      <th>SHARK</th>\n",
       "      <th>YFT</th>\n",
       "    </tr>\n",
       "  </thead>\n",
       "  <tbody>\n",
       "    <tr>\n",
       "      <th>0</th>\n",
       "      <td>img_00005.jpg</td>\n",
       "      <td>0.455003</td>\n",
       "      <td>0.052938</td>\n",
       "      <td>0.030969</td>\n",
       "      <td>0.017734</td>\n",
       "      <td>0.123081</td>\n",
       "      <td>0.079142</td>\n",
       "      <td>0.046585</td>\n",
       "      <td>0.194283</td>\n",
       "    </tr>\n",
       "    <tr>\n",
       "      <th>1</th>\n",
       "      <td>img_00007.jpg</td>\n",
       "      <td>0.455003</td>\n",
       "      <td>0.052938</td>\n",
       "      <td>0.030969</td>\n",
       "      <td>0.017734</td>\n",
       "      <td>0.123081</td>\n",
       "      <td>0.079142</td>\n",
       "      <td>0.046585</td>\n",
       "      <td>0.194283</td>\n",
       "    </tr>\n",
       "    <tr>\n",
       "      <th>2</th>\n",
       "      <td>img_00009.jpg</td>\n",
       "      <td>0.455003</td>\n",
       "      <td>0.052938</td>\n",
       "      <td>0.030969</td>\n",
       "      <td>0.017734</td>\n",
       "      <td>0.123081</td>\n",
       "      <td>0.079142</td>\n",
       "      <td>0.046585</td>\n",
       "      <td>0.194283</td>\n",
       "    </tr>\n",
       "    <tr>\n",
       "      <th>3</th>\n",
       "      <td>img_00018.jpg</td>\n",
       "      <td>0.455003</td>\n",
       "      <td>0.052938</td>\n",
       "      <td>0.030969</td>\n",
       "      <td>0.017734</td>\n",
       "      <td>0.123081</td>\n",
       "      <td>0.079142</td>\n",
       "      <td>0.046585</td>\n",
       "      <td>0.194283</td>\n",
       "    </tr>\n",
       "    <tr>\n",
       "      <th>4</th>\n",
       "      <td>img_00027.jpg</td>\n",
       "      <td>0.455003</td>\n",
       "      <td>0.052938</td>\n",
       "      <td>0.030969</td>\n",
       "      <td>0.017734</td>\n",
       "      <td>0.123081</td>\n",
       "      <td>0.079142</td>\n",
       "      <td>0.046585</td>\n",
       "      <td>0.194283</td>\n",
       "    </tr>\n",
       "  </tbody>\n",
       "</table>\n",
       "</div>"
      ],
      "text/plain": [
       "           image       ALB       BET       DOL       LAG       NoF     OTHER  \\\n",
       "0  img_00005.jpg  0.455003  0.052938  0.030969  0.017734  0.123081  0.079142   \n",
       "1  img_00007.jpg  0.455003  0.052938  0.030969  0.017734  0.123081  0.079142   \n",
       "2  img_00009.jpg  0.455003  0.052938  0.030969  0.017734  0.123081  0.079142   \n",
       "3  img_00018.jpg  0.455003  0.052938  0.030969  0.017734  0.123081  0.079142   \n",
       "4  img_00027.jpg  0.455003  0.052938  0.030969  0.017734  0.123081  0.079142   \n",
       "\n",
       "      SHARK       YFT  \n",
       "0  0.046585  0.194283  \n",
       "1  0.046585  0.194283  \n",
       "2  0.046585  0.194283  \n",
       "3  0.046585  0.194283  \n",
       "4  0.046585  0.194283  "
      ]
     },
     "execution_count": 60,
     "metadata": {},
     "output_type": "execute_result"
    }
   ],
   "source": [
    "empty.head()"
   ]
  },
  {
   "cell_type": "code",
   "execution_count": 63,
   "metadata": {
    "collapsed": false
   },
   "outputs": [],
   "source": [
    "full = empty.append(preds_test)"
   ]
  },
  {
   "cell_type": "code",
   "execution_count": 65,
   "metadata": {
    "collapsed": true
   },
   "outputs": [],
   "source": [
    "full.to_csv('submission1_v2.csv', index = False)"
   ]
  },
  {
   "cell_type": "code",
   "execution_count": 73,
   "metadata": {
    "collapsed": false
   },
   "outputs": [
    {
     "data": {
      "text/html": [
       "<div>\n",
       "<table border=\"1\" class=\"dataframe\">\n",
       "  <thead>\n",
       "    <tr style=\"text-align: right;\">\n",
       "      <th></th>\n",
       "      <th>image</th>\n",
       "      <th>ALB</th>\n",
       "      <th>BET</th>\n",
       "      <th>DOL</th>\n",
       "      <th>LAG</th>\n",
       "      <th>NoF</th>\n",
       "      <th>OTHER</th>\n",
       "      <th>SHARK</th>\n",
       "      <th>YFT</th>\n",
       "    </tr>\n",
       "  </thead>\n",
       "  <tbody>\n",
       "    <tr>\n",
       "      <th>13148</th>\n",
       "      <td>img_12149.jpg</td>\n",
       "      <td>0.590766</td>\n",
       "      <td>0.026334</td>\n",
       "      <td>0.009492</td>\n",
       "      <td>0.010876</td>\n",
       "      <td>0.096344</td>\n",
       "      <td>0.083578</td>\n",
       "      <td>0.014749</td>\n",
       "      <td>0.167859</td>\n",
       "    </tr>\n",
       "    <tr>\n",
       "      <th>13149</th>\n",
       "      <td>img_12150.jpg</td>\n",
       "      <td>0.513181</td>\n",
       "      <td>0.019348</td>\n",
       "      <td>0.012869</td>\n",
       "      <td>0.008757</td>\n",
       "      <td>0.172034</td>\n",
       "      <td>0.048063</td>\n",
       "      <td>0.033198</td>\n",
       "      <td>0.192550</td>\n",
       "    </tr>\n",
       "    <tr>\n",
       "      <th>13150</th>\n",
       "      <td>img_12151.jpg</td>\n",
       "      <td>0.587970</td>\n",
       "      <td>0.016504</td>\n",
       "      <td>0.014765</td>\n",
       "      <td>0.010676</td>\n",
       "      <td>0.120458</td>\n",
       "      <td>0.070770</td>\n",
       "      <td>0.020984</td>\n",
       "      <td>0.157875</td>\n",
       "    </tr>\n",
       "    <tr>\n",
       "      <th>13151</th>\n",
       "      <td>img_12152.jpg</td>\n",
       "      <td>0.538854</td>\n",
       "      <td>0.022332</td>\n",
       "      <td>0.011924</td>\n",
       "      <td>0.019628</td>\n",
       "      <td>0.090406</td>\n",
       "      <td>0.081634</td>\n",
       "      <td>0.031350</td>\n",
       "      <td>0.203869</td>\n",
       "    </tr>\n",
       "    <tr>\n",
       "      <th>13152</th>\n",
       "      <td>img_12153.jpg</td>\n",
       "      <td>0.666385</td>\n",
       "      <td>0.027590</td>\n",
       "      <td>0.012147</td>\n",
       "      <td>0.008350</td>\n",
       "      <td>0.082996</td>\n",
       "      <td>0.062171</td>\n",
       "      <td>0.021622</td>\n",
       "      <td>0.118739</td>\n",
       "    </tr>\n",
       "  </tbody>\n",
       "</table>\n",
       "</div>"
      ],
      "text/plain": [
       "               image       ALB       BET       DOL       LAG       NoF  \\\n",
       "13148  img_12149.jpg  0.590766  0.026334  0.009492  0.010876  0.096344   \n",
       "13149  img_12150.jpg  0.513181  0.019348  0.012869  0.008757  0.172034   \n",
       "13150  img_12151.jpg  0.587970  0.016504  0.014765  0.010676  0.120458   \n",
       "13151  img_12152.jpg  0.538854  0.022332  0.011924  0.019628  0.090406   \n",
       "13152  img_12153.jpg  0.666385  0.027590  0.012147  0.008350  0.082996   \n",
       "\n",
       "          OTHER     SHARK       YFT  \n",
       "13148  0.083578  0.014749  0.167859  \n",
       "13149  0.048063  0.033198  0.192550  \n",
       "13150  0.070770  0.020984  0.157875  \n",
       "13151  0.081634  0.031350  0.203869  \n",
       "13152  0.062171  0.021622  0.118739  "
      ]
     },
     "execution_count": 73,
     "metadata": {},
     "output_type": "execute_result"
    }
   ],
   "source": [
    "test_full = pd.read_csv('submission1_v2.csv')\n",
    "test_full.tail()"
   ]
  },
  {
   "cell_type": "code",
   "execution_count": 68,
   "metadata": {
    "collapsed": true
   },
   "outputs": [],
   "source": [
    "sub_template = pd.read_csv('sample_submission_stg2.csv')"
   ]
  },
  {
   "cell_type": "code",
   "execution_count": 72,
   "metadata": {
    "collapsed": false
   },
   "outputs": [
    {
     "data": {
      "text/html": [
       "<div>\n",
       "<table border=\"1\" class=\"dataframe\">\n",
       "  <thead>\n",
       "    <tr style=\"text-align: right;\">\n",
       "      <th></th>\n",
       "      <th>image</th>\n",
       "      <th>ALB</th>\n",
       "      <th>BET</th>\n",
       "      <th>DOL</th>\n",
       "      <th>LAG</th>\n",
       "      <th>NoF</th>\n",
       "      <th>OTHER</th>\n",
       "      <th>SHARK</th>\n",
       "      <th>YFT</th>\n",
       "    </tr>\n",
       "  </thead>\n",
       "  <tbody>\n",
       "    <tr>\n",
       "      <th>13148</th>\n",
       "      <td>test_stg2/image_12149.jpg</td>\n",
       "      <td>0.455003</td>\n",
       "      <td>0.052938</td>\n",
       "      <td>0.030969</td>\n",
       "      <td>0.017734</td>\n",
       "      <td>0.123081</td>\n",
       "      <td>0.079142</td>\n",
       "      <td>0.046585</td>\n",
       "      <td>0.194283</td>\n",
       "    </tr>\n",
       "    <tr>\n",
       "      <th>13149</th>\n",
       "      <td>test_stg2/image_12150.jpg</td>\n",
       "      <td>0.455003</td>\n",
       "      <td>0.052938</td>\n",
       "      <td>0.030969</td>\n",
       "      <td>0.017734</td>\n",
       "      <td>0.123081</td>\n",
       "      <td>0.079142</td>\n",
       "      <td>0.046585</td>\n",
       "      <td>0.194283</td>\n",
       "    </tr>\n",
       "    <tr>\n",
       "      <th>13150</th>\n",
       "      <td>test_stg2/image_12151.jpg</td>\n",
       "      <td>0.455003</td>\n",
       "      <td>0.052938</td>\n",
       "      <td>0.030969</td>\n",
       "      <td>0.017734</td>\n",
       "      <td>0.123081</td>\n",
       "      <td>0.079142</td>\n",
       "      <td>0.046585</td>\n",
       "      <td>0.194283</td>\n",
       "    </tr>\n",
       "    <tr>\n",
       "      <th>13151</th>\n",
       "      <td>test_stg2/image_12152.jpg</td>\n",
       "      <td>0.455003</td>\n",
       "      <td>0.052938</td>\n",
       "      <td>0.030969</td>\n",
       "      <td>0.017734</td>\n",
       "      <td>0.123081</td>\n",
       "      <td>0.079142</td>\n",
       "      <td>0.046585</td>\n",
       "      <td>0.194283</td>\n",
       "    </tr>\n",
       "    <tr>\n",
       "      <th>13152</th>\n",
       "      <td>test_stg2/image_12153.jpg</td>\n",
       "      <td>0.455003</td>\n",
       "      <td>0.052938</td>\n",
       "      <td>0.030969</td>\n",
       "      <td>0.017734</td>\n",
       "      <td>0.123081</td>\n",
       "      <td>0.079142</td>\n",
       "      <td>0.046585</td>\n",
       "      <td>0.194283</td>\n",
       "    </tr>\n",
       "  </tbody>\n",
       "</table>\n",
       "</div>"
      ],
      "text/plain": [
       "                           image       ALB       BET       DOL       LAG  \\\n",
       "13148  test_stg2/image_12149.jpg  0.455003  0.052938  0.030969  0.017734   \n",
       "13149  test_stg2/image_12150.jpg  0.455003  0.052938  0.030969  0.017734   \n",
       "13150  test_stg2/image_12151.jpg  0.455003  0.052938  0.030969  0.017734   \n",
       "13151  test_stg2/image_12152.jpg  0.455003  0.052938  0.030969  0.017734   \n",
       "13152  test_stg2/image_12153.jpg  0.455003  0.052938  0.030969  0.017734   \n",
       "\n",
       "            NoF     OTHER     SHARK       YFT  \n",
       "13148  0.123081  0.079142  0.046585  0.194283  \n",
       "13149  0.123081  0.079142  0.046585  0.194283  \n",
       "13150  0.123081  0.079142  0.046585  0.194283  \n",
       "13151  0.123081  0.079142  0.046585  0.194283  \n",
       "13152  0.123081  0.079142  0.046585  0.194283  "
      ]
     },
     "execution_count": 72,
     "metadata": {},
     "output_type": "execute_result"
    }
   ],
   "source": [
    "sub_template.tail()"
   ]
  },
  {
   "cell_type": "code",
   "execution_count": 75,
   "metadata": {
    "collapsed": true
   },
   "outputs": [],
   "source": [
    "indexes = sub_template['image']"
   ]
  },
  {
   "cell_type": "code",
   "execution_count": 76,
   "metadata": {
    "collapsed": true
   },
   "outputs": [],
   "source": [
    "test_full['image'] = indexes"
   ]
  },
  {
   "cell_type": "code",
   "execution_count": 77,
   "metadata": {
    "collapsed": false
   },
   "outputs": [
    {
     "data": {
      "text/html": [
       "<div>\n",
       "<table border=\"1\" class=\"dataframe\">\n",
       "  <thead>\n",
       "    <tr style=\"text-align: right;\">\n",
       "      <th></th>\n",
       "      <th>image</th>\n",
       "      <th>ALB</th>\n",
       "      <th>BET</th>\n",
       "      <th>DOL</th>\n",
       "      <th>LAG</th>\n",
       "      <th>NoF</th>\n",
       "      <th>OTHER</th>\n",
       "      <th>SHARK</th>\n",
       "      <th>YFT</th>\n",
       "    </tr>\n",
       "  </thead>\n",
       "  <tbody>\n",
       "    <tr>\n",
       "      <th>13148</th>\n",
       "      <td>test_stg2/image_12149.jpg</td>\n",
       "      <td>0.590766</td>\n",
       "      <td>0.026334</td>\n",
       "      <td>0.009492</td>\n",
       "      <td>0.010876</td>\n",
       "      <td>0.096344</td>\n",
       "      <td>0.083578</td>\n",
       "      <td>0.014749</td>\n",
       "      <td>0.167859</td>\n",
       "    </tr>\n",
       "    <tr>\n",
       "      <th>13149</th>\n",
       "      <td>test_stg2/image_12150.jpg</td>\n",
       "      <td>0.513181</td>\n",
       "      <td>0.019348</td>\n",
       "      <td>0.012869</td>\n",
       "      <td>0.008757</td>\n",
       "      <td>0.172034</td>\n",
       "      <td>0.048063</td>\n",
       "      <td>0.033198</td>\n",
       "      <td>0.192550</td>\n",
       "    </tr>\n",
       "    <tr>\n",
       "      <th>13150</th>\n",
       "      <td>test_stg2/image_12151.jpg</td>\n",
       "      <td>0.587970</td>\n",
       "      <td>0.016504</td>\n",
       "      <td>0.014765</td>\n",
       "      <td>0.010676</td>\n",
       "      <td>0.120458</td>\n",
       "      <td>0.070770</td>\n",
       "      <td>0.020984</td>\n",
       "      <td>0.157875</td>\n",
       "    </tr>\n",
       "    <tr>\n",
       "      <th>13151</th>\n",
       "      <td>test_stg2/image_12152.jpg</td>\n",
       "      <td>0.538854</td>\n",
       "      <td>0.022332</td>\n",
       "      <td>0.011924</td>\n",
       "      <td>0.019628</td>\n",
       "      <td>0.090406</td>\n",
       "      <td>0.081634</td>\n",
       "      <td>0.031350</td>\n",
       "      <td>0.203869</td>\n",
       "    </tr>\n",
       "    <tr>\n",
       "      <th>13152</th>\n",
       "      <td>test_stg2/image_12153.jpg</td>\n",
       "      <td>0.666385</td>\n",
       "      <td>0.027590</td>\n",
       "      <td>0.012147</td>\n",
       "      <td>0.008350</td>\n",
       "      <td>0.082996</td>\n",
       "      <td>0.062171</td>\n",
       "      <td>0.021622</td>\n",
       "      <td>0.118739</td>\n",
       "    </tr>\n",
       "  </tbody>\n",
       "</table>\n",
       "</div>"
      ],
      "text/plain": [
       "                           image       ALB       BET       DOL       LAG  \\\n",
       "13148  test_stg2/image_12149.jpg  0.590766  0.026334  0.009492  0.010876   \n",
       "13149  test_stg2/image_12150.jpg  0.513181  0.019348  0.012869  0.008757   \n",
       "13150  test_stg2/image_12151.jpg  0.587970  0.016504  0.014765  0.010676   \n",
       "13151  test_stg2/image_12152.jpg  0.538854  0.022332  0.011924  0.019628   \n",
       "13152  test_stg2/image_12153.jpg  0.666385  0.027590  0.012147  0.008350   \n",
       "\n",
       "            NoF     OTHER     SHARK       YFT  \n",
       "13148  0.096344  0.083578  0.014749  0.167859  \n",
       "13149  0.172034  0.048063  0.033198  0.192550  \n",
       "13150  0.120458  0.070770  0.020984  0.157875  \n",
       "13151  0.090406  0.081634  0.031350  0.203869  \n",
       "13152  0.082996  0.062171  0.021622  0.118739  "
      ]
     },
     "execution_count": 77,
     "metadata": {},
     "output_type": "execute_result"
    }
   ],
   "source": [
    "test_full.tail()"
   ]
  },
  {
   "cell_type": "code",
   "execution_count": 79,
   "metadata": {
    "collapsed": true
   },
   "outputs": [],
   "source": [
    "test_full.to_csv('sub_hurry.csv', index = False)"
   ]
  },
  {
   "cell_type": "code",
   "execution_count": 80,
   "metadata": {
    "collapsed": false
   },
   "outputs": [
    {
     "data": {
      "text/plain": [
       "(13153, 9)"
      ]
     },
     "execution_count": 80,
     "metadata": {},
     "output_type": "execute_result"
    }
   ],
   "source": [
    "test_full.shape"
   ]
  },
  {
   "cell_type": "code",
   "execution_count": null,
   "metadata": {
    "collapsed": true
   },
   "outputs": [],
   "source": []
  }
 ],
 "metadata": {
  "kernelspec": {
   "display_name": "Python [conda root]",
   "language": "python",
   "name": "conda-root-py"
  },
  "language_info": {
   "codemirror_mode": {
    "name": "ipython",
    "version": 3
   },
   "file_extension": ".py",
   "mimetype": "text/x-python",
   "name": "python",
   "nbconvert_exporter": "python",
   "pygments_lexer": "ipython3",
   "version": "3.5.2"
  }
 },
 "nbformat": 4,
 "nbformat_minor": 2
}
