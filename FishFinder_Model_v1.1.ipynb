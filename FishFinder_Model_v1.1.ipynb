{
 "cells": [
  {
   "cell_type": "markdown",
   "metadata": {},
   "source": [
    "# FishFinder Model\n",
    "The purpose of this model is to determine the offset locations and scale that allow a standard sized fovea that circumscribes the fish to be retreived.  \n",
    "\n",
    "The FishNoF model will be transferred directly to this task, as the inputs are identical and tasks are similar (i.e. is a fish present or not versus where is the fish present).  There might be away to tie these tasks together, however I am unsure what to do about ... got it.\n",
    "\n",
    "FishFinder will be a multitask model that detects whether a fish exists and the correct offsets for fish location with a scale for the image that will produce a standard sized fovea that encapsulates the fish. For `NoF` images, a weight of zero will be applied to the prediction of the offsets and scale.  Thus these images will not contribute to this task of learning.  All images will contribute to the learning of the FishNoF label, however weighting may also be used to aid in training efficiently against the unbalanced training set.   "
   ]
  },
  {
   "cell_type": "markdown",
   "metadata": {},
   "source": [
    "#### Dependencies"
   ]
  },
  {
   "cell_type": "code",
   "execution_count": 1,
   "metadata": {
    "collapsed": true
   },
   "outputs": [],
   "source": [
    "import numpy as np\n",
    "import tensorflow as tf\n",
    "from importlib import reload\n",
    "import os\n",
    "import pickle\n",
    "import fish_data as fd\n",
    "from datetime import datetime"
   ]
  },
  {
   "cell_type": "code",
   "execution_count": null,
   "metadata": {
    "collapsed": true
   },
   "outputs": [],
   "source": []
  },
  {
   "cell_type": "code",
   "execution_count": null,
   "metadata": {
    "collapsed": true
   },
   "outputs": [],
   "source": []
  },
  {
   "cell_type": "markdown",
   "metadata": {},
   "source": [
    "### Load label_dictionary.pickle\n",
    "Dictionary will serve as a reference for filenames."
   ]
  },
  {
   "cell_type": "code",
   "execution_count": 2,
   "metadata": {
    "collapsed": true
   },
   "outputs": [],
   "source": [
    "with open('label_dictionary.pickle', 'rb') as handle :\n",
    "    label_dictionary = pickle.load(handle)"
   ]
  },
  {
   "cell_type": "markdown",
   "metadata": {},
   "source": [
    "### Generate filenames lists for training and validation sets"
   ]
  },
  {
   "cell_type": "code",
   "execution_count": 3,
   "metadata": {
    "collapsed": false
   },
   "outputs": [
    {
     "name": "stdout",
     "output_type": "stream",
     "text": [
      "There are 3577 filenames in the training set\n",
      "There are 200 filenames in the validation set\n"
     ]
    }
   ],
   "source": [
    "master = fd.generate_filenames_list()\n",
    "valid_fnames = []\n",
    "train_fnames = [] \n",
    "\n",
    "for key in master :\n",
    "    if label_dictionary.get(key).get('valid_set') == True :\n",
    "        valid_fnames.append(key)\n",
    "    else :\n",
    "        train_fnames.append(key)\n",
    "\n",
    "print(\"There are {} filenames in the training set\".format(len(train_fnames)))\n",
    "print(\"There are {} filenames in the validation set\".format(len(valid_fnames)))\n"
   ]
  },
  {
   "cell_type": "markdown",
   "metadata": {},
   "source": [
    "### Bundle Validation Coarse Image Array with Labels and Weights "
   ]
  },
  {
   "cell_type": "code",
   "execution_count": 4,
   "metadata": {
    "collapsed": false
   },
   "outputs": [
    {
     "name": "stdout",
     "output_type": "stream",
     "text": [
      "Help on function bundle_mt in module fish_data:\n",
      "\n",
      "bundle_mt(f_list, label_dictionary, coarse_dims=[64, 112, 3], fov_dim=72)\n",
      "    Generates an array of coarse images with corresponding labels from\n",
      "    an input list of filenames.\n",
      "    \n",
      "    Returns :\n",
      "        * coarse_arr - the array of coarse images (batch, y, x, channels).  Will\n",
      "            need to be processed for network input.\n",
      "        * is_fish - boolean array that describes whether a fish is present\n",
      "            in the image\n",
      "        * coords - float array ( [0,1]) that describes the position of\n",
      "            the top left corner for a bounding box of the fish.\n",
      "        * scale - array of floats.  Describes the scale for the high-resolution\n",
      "            image, such that a bounding box that begins with the `coords` and\n",
      "            extends in both the y and x directions for the number of pixels\n",
      "            supplied by `fov_dim`, will produce a fovea that circumscribes the\n",
      "            entire fish.\n",
      "        * weights - weighting for coords / scale cost calculation.\n",
      "        ++++++\n",
      "        NOTE : If the value for coord or scale is None when keyed from the\n",
      "        label_dictionary, zeros will be imputed for both coords and scale. In\n",
      "        such chases, zeros will also be imputed for the `weights` parameter.\n",
      "        Thus, any loss or cost generated from the prediction of these coarse\n",
      "        images, will be negated.  For NoF images, these parameters will always\n",
      "        be None.  For Fish images, the user will annotate the appropriate coords\n",
      "        and scale and save the label_dictionary after significant progress.\n",
      "        Thus training can begin without having these labels annotated, and the\n",
      "        only learning task that is updated will be the FishNoF classification.\n",
      "        As more images are annotated with coords and scale, the learning for the\n",
      "        second task of fish bbox identification will increase.\n",
      "        ++++++\n",
      "\n"
     ]
    }
   ],
   "source": [
    "reload(fd)\n",
    "help(fd.bundle_mt)"
   ]
  },
  {
   "cell_type": "code",
   "execution_count": 5,
   "metadata": {
    "collapsed": false
   },
   "outputs": [
    {
     "name": "stdout",
     "output_type": "stream",
     "text": [
      "(200, 64, 112, 3) (200, 1)\n",
      "First coarse image is Fish: [1]\n"
     ]
    },
    {
     "data": {
      "image/png": "[encoded data removed]",
      "text/plain": [
       "<matplotlib.figure.Figure at 0x11321ce48>"
      ]
     },
     "metadata": {},
     "output_type": "display_data"
    },
    {
     "name": "stdout",
     "output_type": "stream",
     "text": [
      "Valid Scales/Coords processed correctly : False\n",
      "Valid Weights processed correctly : False\n"
     ]
    }
   ],
   "source": [
    "\n",
    "valid_coarse, valid_is_fish, valid_box, valid_weights = fd.bundle_mt(valid_fnames, label_dictionary = label_dictionary)\n",
    "print(valid_coarse.shape, valid_is_fish.shape)\n",
    "print(\"First coarse image is Fish: {}\".format(valid_is_fish[0]))\n",
    "fd.show_panel(valid_coarse[0, :, :, :])\n",
    "print(\"Valid Scales/Coords processed correctly : {}\".format(np.all(valid_box == -1)))\n",
    "print(\"Valid Weights processed correctly : {}\".format(np.all(valid_weights == 0)))"
   ]
  },
  {
   "cell_type": "markdown",
   "metadata": {},
   "source": [
    "## Preprocess Validation Coarse Image Array"
   ]
  },
  {
   "cell_type": "code",
   "execution_count": 6,
   "metadata": {
    "collapsed": false
   },
   "outputs": [
    {
     "name": "stdout",
     "output_type": "stream",
     "text": [
      "[  97.24441528  108.08731079  104.71770477]\n",
      "[ 0.76177758  0.88361704  4.7431531 ]\n"
     ]
    }
   ],
   "source": [
    "valid_coarse = valid_coarse.astype(np.float32)\n",
    "print(np.mean(np.mean(np.mean(valid_coarse, axis =1), axis =1), axis = 0))\n",
    "for i in range(valid_coarse.shape[0]) :\n",
    "    valid_coarse[i,:, :, :] = fd.process_fovea(valid_coarse[i,:,:,:], pixel_norm = 'centre', mutation = False)\n",
    "\n",
    "print(np.mean(np.mean(np.mean(valid_coarse, axis =1), axis =1), axis = 0))"
   ]
  },
  {
   "cell_type": "markdown",
   "metadata": {},
   "source": [
    "### Set-up and Parameters"
   ]
  },
  {
   "cell_type": "code",
   "execution_count": 7,
   "metadata": {
    "collapsed": true
   },
   "outputs": [],
   "source": [
    "version_ID = 'v1.1'\n",
    "initiate_FishFinder = True \n",
    "\n",
    "wd = os.getcwd()\n",
    "md = wd+'/FishFinder/'+version_ID\n",
    "if not os.path.exists(md) :\n",
    "    os.makedirs(md)\n",
    "tensorboard_path = md+'/Tensorboard_logs'\n"
   ]
  },
  {
   "cell_type": "code",
   "execution_count": 8,
   "metadata": {
    "collapsed": true
   },
   "outputs": [],
   "source": [
    "%run -i 'FishFinder/FishFinder_PARAMS.py'"
   ]
  },
  {
   "cell_type": "markdown",
   "metadata": {},
   "source": [
    "### Graph "
   ]
  },
  {
   "cell_type": "code",
   "execution_count": null,
   "metadata": {
    "collapsed": false
   },
   "outputs": [],
   "source": [
    "%run -i 'FishFinder/FishFinder_GRAPH.py'"
   ]
  },
  {
   "cell_type": "markdown",
   "metadata": {},
   "source": [
    "### Session"
   ]
  },
  {
   "cell_type": "code",
   "execution_count": null,
   "metadata": {
    "collapsed": false,
    "scrolled": false
   },
   "outputs": [
    {
     "name": "stdout",
     "output_type": "stream",
     "text": [
      "Weight and bias variables initialized!\n",
      "\n",
      "Checkpoint saver initialized!\n",
      "\n",
      "Tensorboard initialized!\n",
      "To view your tensorboard dashboard summary, run the following on the command line:\n",
      "\n",
      "tensorboard --logdir='/Users/ccthomps/Documents/ML_Projects/Kaggle Competitions/FF3/FishFinder/v1.1/Tensorboard_logs'\n",
      "\n",
      "\n",
      "TRAINING FishFinder_MT v1.1...\n",
      "Batch Cost value: 0.775428\n",
      "Batch Cost value: 0.580664\n",
      "Batch Cost value: 0.548423\n",
      "Batch Cost value: 0.469488\n",
      "Batch Cost value: 0.437308\n",
      "Batch Cost value: 0.43534\n",
      "Epoch 1 completed : 3456 coarse images observed in 406.685584 s (9.287272892367879 images/sec). Model Saved!\n",
      "Batch Cost value: 0.55219\n",
      "Batch Cost value: 0.508423\n",
      "Batch Cost value: 0.416082\n",
      "Batch Cost value: 0.443472\n",
      "Batch Cost value: 0.517587\n",
      "Epoch 2 completed : 6912 coarse images observed in 369.153402 s (10.231518874096682 images/sec). Model Saved!\n",
      "Epoch 3 completed : 10368 coarse images observed in 346.995142 s (10.884878613084446 images/sec). Model Saved!\n",
      "Epoch 4 completed : 13824 coarse images observed in 328.067936 s (11.512859336549123 images/sec). Model Saved!\n",
      "Epoch 5 completed : 17280 coarse images observed in 466.649208 s (8.093874231969124 images/sec). Model Saved!\n",
      "Epoch 6 completed : 20736 coarse images observed in 477.673159 s (7.907080246893253 images/sec). Model Saved!\n",
      "Epoch 7 completed : 24192 coarse images observed in 468.096726 s (8.068845155733904 images/sec). Model Saved!\n",
      "Epoch 8 completed : 27648 coarse images observed in 421.093118 s (8.969512534279888 images/sec). Model Saved!\n",
      "Epoch 9 completed : 31104 coarse images observed in 418.369259 s (9.027909959321367 images/sec). Model Saved!\n",
      "Epoch 10 completed : 34560 coarse images observed in 433.148828 s (8.719866604371836 images/sec). Model Saved!\n",
      "Epoch 11 completed : 38016 coarse images observed in 366.514125 s (10.305196286773397 images/sec). Model Saved!\n",
      "Epoch 12 completed : 41472 coarse images observed in 329.427273 s (11.465353082651417 images/sec). Model Saved!\n",
      "Epoch 13 completed : 44928 coarse images observed in 326.468848 s (11.56925085850764 images/sec). Model Saved!\n",
      "Epoch 14 completed : 48384 coarse images observed in 358.268171 s (10.542382231325819 images/sec). Model Saved!\n",
      "Epoch 15 completed : 51840 coarse images observed in 352.087867 s (10.727435830670075 images/sec). Model Saved!\n",
      "Epoch 16 completed : 55296 coarse images observed in 357.065651 s (10.577886697928275 images/sec). Model Saved!\n",
      "Epoch 17 completed : 58752 coarse images observed in 356.286427 s (10.60102129571161 images/sec). Model Saved!\n",
      "Epoch 18 completed : 62208 coarse images observed in 445.584773 s (8.476501507379831 images/sec). Model Saved!\n",
      "Epoch 19 completed : 65664 coarse images observed in 353.851823 s (10.673959421709691 images/sec). Model Saved!\n",
      "Epoch 20 completed : 69120 coarse images observed in 367.488048 s (10.277885282407878 images/sec). Model Saved!\n",
      "Epoch 21 completed : 72576 coarse images observed in 352.115827 s (10.72658401123219 images/sec). Model Saved!\n",
      "Epoch 22 completed : 76032 coarse images observed in 376.994094 s (10.01872459041759 images/sec). Model Saved!\n",
      "Epoch 23 completed : 79488 coarse images observed in 400.195176 s (9.437894873575388 images/sec). Model Saved!\n",
      "Epoch 24 completed : 82944 coarse images observed in 371.088057 s (10.178177197440768 images/sec). Model Saved!\n",
      "Epoch 25 completed : 86400 coarse images observed in 347.409574 s (10.871893818332133 images/sec). Model Saved!\n",
      "Epoch 26 completed : 89856 coarse images observed in 382.863306 s (9.865139700799636 images/sec). Model Saved!\n",
      "Epoch 27 completed : 93312 coarse images observed in 384.339215 s (9.82725637299332 images/sec). Model Saved!\n",
      "Epoch 28 completed : 96768 coarse images observed in 358.803595 s (10.526650380969567 images/sec). Model Saved!\n",
      "Epoch 29 completed : 100224 coarse images observed in 369.93353 s (10.20994231044696 images/sec). Model Saved!\n",
      "Epoch 30 completed : 103680 coarse images observed in 406.433744 s (9.293027598613957 images/sec). Model Saved!\n",
      "Epoch 31 completed : 107136 coarse images observed in 373.350862 s (10.116489298476562 images/sec). Model Saved!\n",
      "Epoch 32 completed : 110592 coarse images observed in 353.689587 s (10.67885552423685 images/sec). Model Saved!\n",
      "Epoch 33 completed : 114048 coarse images observed in 361.205491 s (10.456651668122067 images/sec). Model Saved!\n",
      "Epoch 34 completed : 117504 coarse images observed in 350.849003 s (10.765314901008853 images/sec). Model Saved!\n",
      "Epoch 35 completed : 120960 coarse images observed in 335.262727 s (11.265791559346232 images/sec). Model Saved!\n",
      "Epoch 36 completed : 124416 coarse images observed in 375.555591 s (10.057099642540004 images/sec). Model Saved!\n",
      "Epoch 37 completed : 127872 coarse images observed in 348.866705 s (10.826484573814517 images/sec). Model Saved!\n",
      "Epoch 38 completed : 131328 coarse images observed in 402.334431 s (9.387712581824745 images/sec). Model Saved!\n",
      "Epoch 39 completed : 134784 coarse images observed in 353.929985 s (10.67160218143145 images/sec). Model Saved!\n",
      "Epoch 40 completed : 138240 coarse images observed in 372.917822 s (10.12823677812856 images/sec). Model Saved!\n",
      "Epoch 41 completed : 141696 coarse images observed in 369.17339 s (10.230964913262032 images/sec). Model Saved!\n",
      "Epoch 42 completed : 145152 coarse images observed in 343.797795 s (10.986108855061156 images/sec). Model Saved!\n",
      "Epoch 43 completed : 148608 coarse images observed in 341.267632 s (11.0675600198732 images/sec). Model Saved!\n",
      "Epoch 44 completed : 152064 coarse images observed in 341.873027 s (11.047961382457938 images/sec). Model Saved!\n",
      "Epoch 45 completed : 155520 coarse images observed in 392.85052 s (9.614343898539321 images/sec). Model Saved!\n",
      "Epoch 46 completed : 158976 coarse images observed in 385.766251 s (9.790903144609194 images/sec). Model Saved!\n",
      "Epoch 47 completed : 162432 coarse images observed in 364.411287 s (10.364662497405027 images/sec). Model Saved!\n"
     ]
    }
   ],
   "source": [
    "%run -i 'FishFinder/FishFinder_SESSION.py'"
   ]
  },
  {
   "cell_type": "markdown",
   "metadata": {},
   "source": [
    "#### Note\n",
    "Accidentally stopped the session call.  Will restart from last checkpoint."
   ]
  },
  {
   "cell_type": "code",
   "execution_count": 11,
   "metadata": {
    "collapsed": true
   },
   "outputs": [],
   "source": [
    "initiate_FishFinder = False"
   ]
  },
  {
   "cell_type": "code",
   "execution_count": 12,
   "metadata": {
    "collapsed": true
   },
   "outputs": [],
   "source": [
    "%run -i 'FishFinder/FishFinder_GRAPH.py'"
   ]
  },
  {
   "cell_type": "code",
   "execution_count": 13,
   "metadata": {
    "collapsed": false
   },
   "outputs": [
    {
     "name": "stdout",
     "output_type": "stream",
     "text": [
      "Loading FishFinder_MT version v1.1\n",
      "Metadata dictionary loaded!\n",
      "Initializing restorer...\n",
      "Weights and biases retrieved!  Picking up at 47 epochs completed : 162432 training images observed\n",
      "Checkpoint saver initialized!\n",
      "\n",
      "Tensorboard initialized!\n",
      "To view your tensorboard dashboard summary, run the following on the command line:\n",
      "\n",
      "tensorboard --logdir='/Users/ccthomps/Documents/ML_Projects/Kaggle Competitions/FF3/FishFinder/v1.1/Tensorboard_logs'\n",
      "\n",
      "\n",
      "TRAINING FishFinder_MT v1.1...\n",
      "Epoch 48 completed : 165888 coarse images observed in 361.018021 s (10.46208161447985 images/sec). Model Saved!\n",
      "Epoch 49 completed : 169344 coarse images observed in 364.760931 s (10.354727381699767 images/sec). Model Saved!\n"
     ]
    },
    {
     "ename": "ValueError",
     "evalue": "'arr' does not have a suitable array shape for any mode.",
     "output_type": "error",
     "traceback": [
      "\u001b[0;31m---------------------------------------------------------------------------\u001b[0m",
      "\u001b[0;31mValueError\u001b[0m                                Traceback (most recent call last)",
      "\u001b[0;32m/Users/ccthomps/Documents/ML_Projects/Kaggle Competitions/FF3/FishFinder/FishFinder_SESSION.py\u001b[0m in \u001b[0;36m<module>\u001b[0;34m()\u001b[0m\n\u001b[1;32m     72\u001b[0m                 \u001b[0mbatch_key_list\u001b[0m\u001b[0;34m.\u001b[0m\u001b[0mappend\u001b[0m\u001b[0;34m(\u001b[0m \u001b[0mepoch_keys\u001b[0m\u001b[0;34m.\u001b[0m\u001b[0mpop\u001b[0m\u001b[0;34m(\u001b[0m\u001b[0mnp\u001b[0m\u001b[0;34m.\u001b[0m\u001b[0mrandom\u001b[0m\u001b[0;34m.\u001b[0m\u001b[0mrandint\u001b[0m\u001b[0;34m(\u001b[0m\u001b[0;36m0\u001b[0m\u001b[0;34m,\u001b[0m\u001b[0mlen\u001b[0m\u001b[0;34m(\u001b[0m\u001b[0mepoch_keys\u001b[0m\u001b[0;34m)\u001b[0m\u001b[0;34m)\u001b[0m\u001b[0;34m)\u001b[0m\u001b[0;34m)\u001b[0m\u001b[0;34m\u001b[0m\u001b[0m\n\u001b[1;32m     73\u001b[0m \u001b[0;34m\u001b[0m\u001b[0m\n\u001b[0;32m---> 74\u001b[0;31m             \u001b[0mbatch_arr\u001b[0m\u001b[0;34m,\u001b[0m \u001b[0mis_fish_vector\u001b[0m\u001b[0;34m,\u001b[0m \u001b[0mbox_arr\u001b[0m\u001b[0;34m,\u001b[0m \u001b[0mweights_vector\u001b[0m \u001b[0;34m=\u001b[0m \u001b[0mfd\u001b[0m\u001b[0;34m.\u001b[0m\u001b[0mbundle_mt\u001b[0m\u001b[0;34m(\u001b[0m\u001b[0mbatch_key_list\u001b[0m\u001b[0;34m,\u001b[0m \u001b[0mlabel_dictionary\u001b[0m \u001b[0;34m=\u001b[0m \u001b[0mlabel_dictionary\u001b[0m\u001b[0;34m,\u001b[0m \u001b[0mfov_dim\u001b[0m \u001b[0;34m=\u001b[0m \u001b[0mfov_dim\u001b[0m\u001b[0;34m)\u001b[0m\u001b[0;34m\u001b[0m\u001b[0m\n\u001b[0m\u001b[1;32m     75\u001b[0m             \u001b[0;32mfor\u001b[0m \u001b[0mix\u001b[0m \u001b[0;32min\u001b[0m \u001b[0mrange\u001b[0m\u001b[0;34m(\u001b[0m\u001b[0mbatch_size\u001b[0m\u001b[0;34m)\u001b[0m \u001b[0;34m:\u001b[0m\u001b[0;34m\u001b[0m\u001b[0m\n\u001b[1;32m     76\u001b[0m                 \u001b[0mbatch_arr\u001b[0m\u001b[0;34m[\u001b[0m\u001b[0mix\u001b[0m\u001b[0;34m,\u001b[0m \u001b[0;34m:\u001b[0m\u001b[0;34m,\u001b[0m \u001b[0;34m:\u001b[0m\u001b[0;34m,\u001b[0m \u001b[0;34m:\u001b[0m\u001b[0;34m]\u001b[0m \u001b[0;34m=\u001b[0m \u001b[0mfd\u001b[0m\u001b[0;34m.\u001b[0m\u001b[0mprocess_fovea\u001b[0m\u001b[0;34m(\u001b[0m\u001b[0mbatch_arr\u001b[0m\u001b[0;34m[\u001b[0m\u001b[0mix\u001b[0m\u001b[0;34m,\u001b[0m\u001b[0;34m:\u001b[0m\u001b[0;34m,\u001b[0m\u001b[0;34m:\u001b[0m\u001b[0;34m,\u001b[0m\u001b[0;34m:\u001b[0m\u001b[0;34m]\u001b[0m\u001b[0;34m,\u001b[0m \u001b[0mpixel_norm\u001b[0m \u001b[0;34m=\u001b[0m \u001b[0;34m'centre'\u001b[0m\u001b[0;34m,\u001b[0m \u001b[0mmutation\u001b[0m \u001b[0;34m=\u001b[0m \u001b[0;32mFalse\u001b[0m\u001b[0;34m)\u001b[0m  \u001b[0;31m# TODO : Refactor so fn handles batch arrays and get rid of this loop\u001b[0m\u001b[0;34m\u001b[0m\u001b[0m\n",
      "\u001b[0;32m/Users/ccthomps/Documents/ML_Projects/Kaggle Competitions/FF3/fish_data.py\u001b[0m in \u001b[0;36mbundle_mt\u001b[0;34m(f_list, label_dictionary, coarse_dims, fov_dim)\u001b[0m\n\u001b[1;32m    281\u001b[0m         \u001b[0mThus\u001b[0m \u001b[0mtraining\u001b[0m \u001b[0mcan\u001b[0m \u001b[0mbegin\u001b[0m \u001b[0mwithout\u001b[0m \u001b[0mhaving\u001b[0m \u001b[0mthese\u001b[0m \u001b[0mlabels\u001b[0m \u001b[0mannotated\u001b[0m\u001b[0;34m,\u001b[0m \u001b[0;32mand\u001b[0m \u001b[0mthe\u001b[0m\u001b[0;34m\u001b[0m\u001b[0m\n\u001b[1;32m    282\u001b[0m         \u001b[0monly\u001b[0m \u001b[0mlearning\u001b[0m \u001b[0mtask\u001b[0m \u001b[0mthat\u001b[0m \u001b[0;32mis\u001b[0m \u001b[0mupdated\u001b[0m \u001b[0mwill\u001b[0m \u001b[0mbe\u001b[0m \u001b[0mthe\u001b[0m \u001b[0mFishNoF\u001b[0m \u001b[0mclassification\u001b[0m\u001b[0;34m.\u001b[0m\u001b[0;34m\u001b[0m\u001b[0m\n\u001b[0;32m--> 283\u001b[0;31m         \u001b[0mAs\u001b[0m \u001b[0mmore\u001b[0m \u001b[0mimages\u001b[0m \u001b[0mare\u001b[0m \u001b[0mannotated\u001b[0m \u001b[0;32mwith\u001b[0m \u001b[0mcoords\u001b[0m \u001b[0;32mand\u001b[0m \u001b[0mscale\u001b[0m\u001b[0;34m,\u001b[0m \u001b[0mthe\u001b[0m \u001b[0mlearning\u001b[0m \u001b[0;32mfor\u001b[0m \u001b[0mthe\u001b[0m\u001b[0;34m\u001b[0m\u001b[0m\n\u001b[0m\u001b[1;32m    284\u001b[0m         \u001b[0msecond\u001b[0m \u001b[0mtask\u001b[0m \u001b[0mof\u001b[0m \u001b[0mfish\u001b[0m \u001b[0mbbox\u001b[0m \u001b[0midentification\u001b[0m \u001b[0mwill\u001b[0m \u001b[0mincrease\u001b[0m\u001b[0;34m.\u001b[0m\u001b[0;34m\u001b[0m\u001b[0m\n\u001b[1;32m    285\u001b[0m         \u001b[0;34m+\u001b[0m\u001b[0;34m+\u001b[0m\u001b[0;34m+\u001b[0m\u001b[0;34m+\u001b[0m\u001b[0;34m+\u001b[0m\u001b[0;34m+\u001b[0m\u001b[0;34m\u001b[0m\u001b[0m\n",
      "\u001b[0;32m/Users/ccthomps/anaconda/lib/python3.5/site-packages/scipy/misc/pilutil.py\u001b[0m in \u001b[0;36mimresize\u001b[0;34m(arr, size, interp, mode)\u001b[0m\n\u001b[1;32m    476\u001b[0m \u001b[0;34m\u001b[0m\u001b[0m\n\u001b[1;32m    477\u001b[0m     \"\"\"\n\u001b[0;32m--> 478\u001b[0;31m     \u001b[0mim\u001b[0m \u001b[0;34m=\u001b[0m \u001b[0mtoimage\u001b[0m\u001b[0;34m(\u001b[0m\u001b[0marr\u001b[0m\u001b[0;34m,\u001b[0m \u001b[0mmode\u001b[0m\u001b[0;34m=\u001b[0m\u001b[0mmode\u001b[0m\u001b[0;34m)\u001b[0m\u001b[0;34m\u001b[0m\u001b[0m\n\u001b[0m\u001b[1;32m    479\u001b[0m     \u001b[0mts\u001b[0m \u001b[0;34m=\u001b[0m \u001b[0mtype\u001b[0m\u001b[0;34m(\u001b[0m\u001b[0msize\u001b[0m\u001b[0;34m)\u001b[0m\u001b[0;34m\u001b[0m\u001b[0m\n\u001b[1;32m    480\u001b[0m     \u001b[0;32mif\u001b[0m \u001b[0missubdtype\u001b[0m\u001b[0;34m(\u001b[0m\u001b[0mts\u001b[0m\u001b[0;34m,\u001b[0m \u001b[0mint\u001b[0m\u001b[0;34m)\u001b[0m\u001b[0;34m:\u001b[0m\u001b[0;34m\u001b[0m\u001b[0m\n",
      "\u001b[0;32m/Users/ccthomps/anaconda/lib/python3.5/site-packages/scipy/misc/pilutil.py\u001b[0m in \u001b[0;36mtoimage\u001b[0;34m(arr, high, low, cmin, cmax, pal, mode, channel_axis)\u001b[0m\n\u001b[1;32m    285\u001b[0m                                 ((3 in shape) or (4 in shape)))\n\u001b[1;32m    286\u001b[0m     \u001b[0;32mif\u001b[0m \u001b[0;32mnot\u001b[0m \u001b[0mvalid\u001b[0m\u001b[0;34m:\u001b[0m\u001b[0;34m\u001b[0m\u001b[0m\n\u001b[0;32m--> 287\u001b[0;31m         raise ValueError(\"'arr' does not have a suitable array shape for \"\n\u001b[0m\u001b[1;32m    288\u001b[0m                          \"any mode.\")\n\u001b[1;32m    289\u001b[0m     \u001b[0;32mif\u001b[0m \u001b[0mlen\u001b[0m\u001b[0;34m(\u001b[0m\u001b[0mshape\u001b[0m\u001b[0;34m)\u001b[0m \u001b[0;34m==\u001b[0m \u001b[0;36m2\u001b[0m\u001b[0;34m:\u001b[0m\u001b[0;34m\u001b[0m\u001b[0m\n",
      "\u001b[0;31mValueError\u001b[0m: 'arr' does not have a suitable array shape for any mode."
     ]
    }
   ],
   "source": [
    "%run -i 'FishFinder/FishFinder_SESSION.py'"
   ]
  },
  {
   "cell_type": "markdown",
   "metadata": {},
   "source": [
    "#### Note\n",
    "Add regularization to dense layers"
   ]
  },
  {
   "cell_type": "code",
   "execution_count": 15,
   "metadata": {
    "collapsed": false
   },
   "outputs": [],
   "source": [
    "%run -i 'FishFinder/FishFinder_GRAPH.py'"
   ]
  },
  {
   "cell_type": "code",
   "execution_count": 16,
   "metadata": {
    "collapsed": false
   },
   "outputs": [
    {
     "name": "stdout",
     "output_type": "stream",
     "text": [
      "Loading FishFinder_MT version v1.1\n",
      "Metadata dictionary loaded!\n",
      "Initializing restorer...\n",
      "Weights and biases retrieved!  Picking up at 49 epochs completed : 169344 training images observed\n",
      "Checkpoint saver initialized!\n",
      "\n",
      "Tensorboard initialized!\n",
      "To view your tensorboard dashboard summary, run the following on the command line:\n",
      "\n",
      "tensorboard --logdir='/Users/ccthomps/Documents/ML_Projects/Kaggle Competitions/FF3/FishFinder/v1.1/Tensorboard_logs'\n",
      "\n",
      "\n",
      "TRAINING FishFinder_MT v1.1...\n",
      "Epoch 50 completed : 172800 coarse images observed in 354.285376 s (10.660897276211593 images/sec). Model Saved!\n",
      "Epoch 51 completed : 176256 coarse images observed in 367.342443 s (10.281959169090625 images/sec). Model Saved!\n",
      "Epoch 52 completed : 179712 coarse images observed in 363.299173 s (10.396390305022797 images/sec). Model Saved!\n",
      "Epoch 53 completed : 183168 coarse images observed in 375.05615 s (10.070492111647816 images/sec). Model Saved!\n",
      "Epoch 54 completed : 186624 coarse images observed in 349.267037 s (10.814075191412924 images/sec). Model Saved!\n",
      "Epoch 55 completed : 190080 coarse images observed in 382.989881 s (9.861879353412995 images/sec). Model Saved!\n",
      "Epoch 56 completed : 193536 coarse images observed in 376.211678 s (10.039560760259015 images/sec). Model Saved!\n",
      "Epoch 57 completed : 196992 coarse images observed in 374.114853 s (10.095830116640679 images/sec). Model Saved!\n",
      "Epoch 58 completed : 200448 coarse images observed in 355.976321 s (10.610256292861681 images/sec). Model Saved!\n",
      "Epoch 59 completed : 203904 coarse images observed in 429.451938 s (8.794930621549554 images/sec). Model Saved!\n",
      "Epoch 60 completed : 207360 coarse images observed in 381.082823 s (9.911231291576739 images/sec). Model Saved!\n",
      "Epoch 61 completed : 210816 coarse images observed in 346.137305 s (10.911854762375294 images/sec). Model Saved!\n",
      "Epoch 62 completed : 214272 coarse images observed in 367.385755 s (10.280747003922349 images/sec). Model Saved!\n",
      "Epoch 63 completed : 217728 coarse images observed in 340.927715 s (11.078594768982041 images/sec). Model Saved!\n",
      "Epoch 64 completed : 221184 coarse images observed in 371.636439 s (10.163158408694148 images/sec). Model Saved!\n",
      "Epoch 65 completed : 224640 coarse images observed in 368.6526 s (10.245418043979617 images/sec). Model Saved!\n",
      "Epoch 66 completed : 228096 coarse images observed in 336.572162 s (11.221961963687301 images/sec). Model Saved!\n",
      "Epoch 67 completed : 231552 coarse images observed in 337.169006 s (11.20209726513237 images/sec). Model Saved!\n",
      "Epoch 68 completed : 235008 coarse images observed in 339.127897 s (11.137391035689404 images/sec). Model Saved!\n",
      "Epoch 69 completed : 238464 coarse images observed in 335.808411 s (11.24748480466143 images/sec). Model Saved!\n",
      "Epoch 70 completed : 241920 coarse images observed in 375.941218 s (10.046783430913926 images/sec). Model Saved!\n",
      "Epoch 71 completed : 245376 coarse images observed in 365.264595 s (10.340449229687865 images/sec). Model Saved!\n",
      "Epoch 72 completed : 248832 coarse images observed in 386.664991 s (9.768145779714512 images/sec). Model Saved!\n",
      "Epoch 73 completed : 252288 coarse images observed in 359.142798 s (10.51670817578249 images/sec). Model Saved!\n",
      "Epoch 74 completed : 255744 coarse images observed in 356.720289 s (10.588127775373046 images/sec). Model Saved!\n",
      "Epoch 75 completed : 259200 coarse images observed in 354.852041 s (10.643872836002654 images/sec). Model Saved!\n",
      "Epoch 76 completed : 262656 coarse images observed in 353.279973 s (10.691237230138716 images/sec). Model Saved!\n",
      "Epoch 77 completed : 266112 coarse images observed in 389.138022 s (9.70606773552444 images/sec). Model Saved!\n",
      "Epoch 78 completed : 269568 coarse images observed in 364.323115 s (10.367170910909675 images/sec). Model Saved!\n",
      "Epoch 79 completed : 273024 coarse images observed in 375.909328 s (10.047635742627806 images/sec). Model Saved!\n",
      "Epoch 80 completed : 276480 coarse images observed in 370.95905 s (10.18171682292156 images/sec). Model Saved!\n",
      "Epoch 81 completed : 279936 coarse images observed in 394.192977 s (9.581601449992348 images/sec). Model Saved!\n",
      "Epoch 82 completed : 283392 coarse images observed in 420.346434 s (8.985445562266861 images/sec). Model Saved!\n"
     ]
    }
   ],
   "source": [
    "%run -i 'FishFinder/FishFinder_SESSION.py'"
   ]
  },
  {
   "cell_type": "markdown",
   "metadata": {},
   "source": [
    "#### Note \n",
    "Experiment with storing the coarse images and retrieving directly instead of loading high resolution and then downsizing for each training example. If the majority of epoch time is loading the images, this should speed up the training significantly (~Loading the coarse image directly is 50x faster than loading full image and resizing.)"
   ]
  },
  {
   "cell_type": "code",
   "execution_count": 17,
   "metadata": {
    "collapsed": false
   },
   "outputs": [
    {
     "data": {
      "text/plain": [
       "<module 'fish_data' from '/Users/ccthomps/Documents/ML_Projects/Kaggle Competitions/FF3/fish_data.py'>"
      ]
     },
     "execution_count": 17,
     "metadata": {},
     "output_type": "execute_result"
    }
   ],
   "source": [
    "from importlib import reload\n",
    "reload(fd)"
   ]
  },
  {
   "cell_type": "code",
   "execution_count": 19,
   "metadata": {
    "collapsed": false,
    "scrolled": false
   },
   "outputs": [
    {
     "name": "stdout",
     "output_type": "stream",
     "text": [
      "Loading FishFinder_MT version v1.1\n",
      "Metadata dictionary loaded!\n",
      "Initializing restorer...\n",
      "Weights and biases retrieved!  Picking up at 82 epochs completed : 283392 training images observed\n",
      "Checkpoint saver initialized!\n",
      "\n",
      "Tensorboard initialized!\n",
      "To view your tensorboard dashboard summary, run the following on the command line:\n",
      "\n",
      "tensorboard --logdir='/Users/ccthomps/Documents/ML_Projects/Kaggle Competitions/FF3/FishFinder/v1.1/Tensorboard_logs'\n",
      "\n",
      "\n",
      "TRAINING FishFinder_MT v1.1...\n",
      "Epoch 83 completed : 286848 coarse images observed in 155.266866 s (24.325859710467785 images/sec). Model Saved!\n",
      "Epoch 84 completed : 290304 coarse images observed in 164.149402 s (23.009526406925318 images/sec). Model Saved!\n",
      "Epoch 85 completed : 293760 coarse images observed in 175.79291 s (21.485508147057807 images/sec). Model Saved!\n",
      "Epoch 86 completed : 297216 coarse images observed in 189.1221 s (19.971224938809375 images/sec). Model Saved!\n",
      "Epoch 87 completed : 300672 coarse images observed in 133.502481 s (28.291609052568845 images/sec). Model Saved!\n",
      "Epoch 88 completed : 304128 coarse images observed in 137.668288 s (27.43551223648543 images/sec). Model Saved!\n",
      "Epoch 89 completed : 307584 coarse images observed in 166.321209 s (22.709070134284556 images/sec). Model Saved!\n",
      "Epoch 90 completed : 311040 coarse images observed in 128.880796 s (29.306150467909895 images/sec). Model Saved!\n",
      "Epoch 91 completed : 314496 coarse images observed in 118.114833 s (31.977355460511887 images/sec). Model Saved!\n",
      "Epoch 92 completed : 317952 coarse images observed in 116.276407 s (32.48294385291764 images/sec). Model Saved!\n",
      "Epoch 93 completed : 321408 coarse images observed in 130.673572 s (28.90408475250068 images/sec). Model Saved!\n",
      "Epoch 94 completed : 324864 coarse images observed in 116.499698 s (32.42068490168962 images/sec). Model Saved!\n",
      "Epoch 95 completed : 328320 coarse images observed in 116.284182 s (32.480771976363904 images/sec). Model Saved!\n",
      "Epoch 96 completed : 331776 coarse images observed in 126.242999 s (29.918490767159295 images/sec). Model Saved!\n",
      "Epoch 97 completed : 335232 coarse images observed in 125.801717 s (30.023437597437564 images/sec). Model Saved!\n",
      "Epoch 98 completed : 338688 coarse images observed in 117.240923 s (32.21571362074657 images/sec). Model Saved!\n",
      "Epoch 99 completed : 342144 coarse images observed in 127.060989 s (29.725882269025938 images/sec). Model Saved!\n",
      "Epoch 100 completed : 345600 coarse images observed in 121.718989 s (31.030491060026797 images/sec). Model Saved!\n",
      "Epoch 101 completed : 349056 coarse images observed in 117.189769 s (32.22977596278051 images/sec). Model Saved!\n",
      "Epoch 102 completed : 352512 coarse images observed in 117.980065 s (32.01388302337348 images/sec). Model Saved!\n",
      "Epoch 103 completed : 355968 coarse images observed in 117.717913 s (32.08517636563944 images/sec). Model Saved!\n",
      "Epoch 104 completed : 359424 coarse images observed in 116.690502 s (32.36767290623191 images/sec). Model Saved!\n",
      "Epoch 105 completed : 362880 coarse images observed in 137.552333 s (27.45864005083796 images/sec). Model Saved!\n",
      "Epoch 106 completed : 366336 coarse images observed in 183.424075 s (20.591626262801107 images/sec). Model Saved!\n",
      "Epoch 107 completed : 369792 coarse images observed in 155.108565 s (24.350686243535293 images/sec). Model Saved!\n",
      "Epoch 108 completed : 373248 coarse images observed in 113.551237 s (33.26251743078765 images/sec). Model Saved!\n",
      "Epoch 109 completed : 376704 coarse images observed in 114.608141 s (32.95577405797028 images/sec). Model Saved!\n",
      "Epoch 110 completed : 380160 coarse images observed in 114.67149 s (32.93756800404355 images/sec). Model Saved!\n",
      "Epoch 111 completed : 383616 coarse images observed in 118.234071 s (31.94510658437871 images/sec). Model Saved!\n",
      "Epoch 112 completed : 387072 coarse images observed in 114.132687 s (33.093061236699 images/sec). Model Saved!\n",
      "Epoch 113 completed : 390528 coarse images observed in 116.648094 s (32.379440336161856 images/sec). Model Saved!\n",
      "Epoch 114 completed : 393984 coarse images observed in 116.132689 s (32.52314255807855 images/sec). Model Saved!\n",
      "Epoch 115 completed : 397440 coarse images observed in 114.972025 s (32.851469737964514 images/sec). Model Saved!\n",
      "Epoch 116 completed : 400896 coarse images observed in 117.209969 s (32.22422147385774 images/sec). Model Saved!\n",
      "Epoch 117 completed : 404352 coarse images observed in 116.139959 s (32.52110671056806 images/sec). Model Saved!\n",
      "Epoch 118 completed : 407808 coarse images observed in 116.837686 s (32.326898360517 images/sec). Model Saved!\n",
      "Epoch 119 completed : 411264 coarse images observed in 119.976375 s (31.48119786082885 images/sec). Model Saved!\n",
      "Epoch 120 completed : 414720 coarse images observed in 116.865333 s (32.319250739652624 images/sec). Model Saved!\n",
      "Epoch 121 completed : 418176 coarse images observed in 129.019798 s (29.274576914157002 images/sec). Model Saved!\n",
      "Epoch 122 completed : 421632 coarse images observed in 197.212639 s (19.151916525999127 images/sec). Model Saved!\n",
      "Epoch 123 completed : 425088 coarse images observed in 170.61558 s (22.13748592010179 images/sec). Model Saved!\n",
      "Epoch 124 completed : 428544 coarse images observed in 113.588797 s (33.25151863347932 images/sec). Model Saved!\n",
      "Epoch 125 completed : 432000 coarse images observed in 114.841817 s (32.88871683386897 images/sec). Model Saved!\n",
      "Epoch 126 completed : 435456 coarse images observed in 114.061709 s (33.1136542939226 images/sec). Model Saved!\n",
      "Epoch 127 completed : 438912 coarse images observed in 114.432018 s (33.00649648597476 images/sec). Model Saved!\n",
      "Epoch 128 completed : 442368 coarse images observed in 114.129082 s (33.0941065485833 images/sec). Model Saved!\n",
      "Epoch 129 completed : 445824 coarse images observed in 114.872808 s (32.87984394009068 images/sec). Model Saved!\n",
      "Epoch 130 completed : 449280 coarse images observed in 113.475287 s (33.284780324018925 images/sec). Model Saved!\n",
      "Epoch 131 completed : 452736 coarse images observed in 116.611187 s (32.38968830666307 images/sec). Model Saved!\n",
      "Epoch 132 completed : 456192 coarse images observed in 116.244551 s (32.49184557476591 images/sec). Model Saved!\n",
      "Epoch 133 completed : 459648 coarse images observed in 114.731201 s (32.92042589181996 images/sec). Model Saved!\n",
      "Epoch 134 completed : 463104 coarse images observed in 114.898532 s (32.872482652780974 images/sec). Model Saved!\n",
      "Epoch 135 completed : 466560 coarse images observed in 152.599845 s (24.751008102269044 images/sec). Model Saved!\n",
      "Epoch 136 completed : 470016 coarse images observed in 109.936953 s (34.35605496543096 images/sec). Model Saved!\n",
      "Epoch 137 completed : 473472 coarse images observed in 112.497915 s (33.57395557064324 images/sec). Model Saved!\n",
      "Epoch 138 completed : 476928 coarse images observed in 113.362705 s (33.317835879092684 images/sec). Model Saved!\n",
      "Epoch 139 completed : 480384 coarse images observed in 114.131019 s (33.093544884585675 images/sec). Model Saved!\n",
      "Epoch 140 completed : 483840 coarse images observed in 114.103792 s (33.1014415366669 images/sec). Model Saved!\n",
      "Epoch 141 completed : 487296 coarse images observed in 114.263688 s (33.05512071341509 images/sec). Model Saved!\n",
      "Epoch 142 completed : 490752 coarse images observed in 113.806501 s (33.18791076794462 images/sec). Model Saved!\n",
      "Epoch 143 completed : 494208 coarse images observed in 114.44596 s (33.00247557886709 images/sec). Model Saved!\n",
      "Epoch 144 completed : 497664 coarse images observed in 113.902124 s (33.16004888547996 images/sec). Model Saved!\n",
      "Epoch 145 completed : 501120 coarse images observed in 113.915525 s (33.15614794383821 images/sec). Model Saved!\n",
      "Epoch 146 completed : 504576 coarse images observed in 114.486497 s (32.990790171525646 images/sec). Model Saved!\n",
      "Epoch 147 completed : 508032 coarse images observed in 114.000496 s (33.13143479656439 images/sec). Model Saved!\n",
      "Epoch 148 completed : 511488 coarse images observed in 114.184141 s (33.07814874221456 images/sec). Model Saved!\n",
      "Epoch 149 completed : 514944 coarse images observed in 114.264786 s (33.05480307817668 images/sec). Model Saved!\n",
      "Epoch 150 completed : 518400 coarse images observed in 151.981766 s (24.85166542939105 images/sec). Model Saved!\n",
      "Epoch 151 completed : 521856 coarse images observed in 110.37396 s (34.220027984861645 images/sec). Model Saved!\n",
      "Epoch 152 completed : 525312 coarse images observed in 112.25588 s (33.64634440529975 images/sec). Model Saved!\n",
      "Epoch 153 completed : 528768 coarse images observed in 113.839386 s (33.178323713024945 images/sec). Model Saved!\n",
      "Epoch 154 completed : 532224 coarse images observed in 113.613271 s (33.24435575840432 images/sec). Model Saved!\n",
      "Epoch 155 completed : 535680 coarse images observed in 113.929516 s (33.15207623632843 images/sec). Model Saved!\n",
      "Epoch 156 completed : 539136 coarse images observed in 114.296216 s (33.045713429392976 images/sec). Model Saved!\n",
      "Epoch 157 completed : 542592 coarse images observed in 114.510377 s (32.983910270420296 images/sec). Model Saved!\n",
      "Epoch 158 completed : 546048 coarse images observed in 155.252644 s (24.328088093623705 images/sec). Model Saved!\n",
      "Epoch 159 completed : 549504 coarse images observed in 160.72856 s (23.499246182507953 images/sec). Model Saved!\n",
      "Epoch 160 completed : 552960 coarse images observed in 112.781425 s (33.48955734510359 images/sec). Model Saved!\n",
      "Epoch 161 completed : 556416 coarse images observed in 167.25254 s (22.58261668253289 images/sec). Model Saved!\n",
      "Epoch 162 completed : 559872 coarse images observed in 113.888534 s (33.16400578130192 images/sec). Model Saved!\n",
      "Epoch 163 completed : 563328 coarse images observed in 132.39449 s (28.52837757825118 images/sec). Model Saved!\n",
      "Epoch 164 completed : 566784 coarse images observed in 194.079426 s (19.461104547990573 images/sec). Model Saved!\n",
      "Epoch 165 completed : 570240 coarse images observed in 127.397469 s (29.64737078096897 images/sec). Model Saved!\n",
      "Epoch 166 completed : 573696 coarse images observed in 117.647179 s (32.10446720528675 images/sec). Model Saved!\n",
      "Epoch 167 completed : 577152 coarse images observed in 149.682155 s (25.233468879439904 images/sec). Model Saved!\n",
      "Epoch 168 completed : 580608 coarse images observed in 112.36472 s (33.61375349842904 images/sec). Model Saved!\n",
      "Epoch 169 completed : 584064 coarse images observed in 151.090937 s (24.99819032825245 images/sec). Model Saved!\n",
      "Epoch 170 completed : 587520 coarse images observed in 110.487886 s (34.18474311292371 images/sec). Model Saved!\n",
      "Epoch 171 completed : 590976 coarse images observed in 114.120522 s (33.096588885213826 images/sec). Model Saved!\n",
      "Epoch 172 completed : 594432 coarse images observed in 150.356865 s (25.120236445472575 images/sec). Model Saved!\n",
      "Epoch 173 completed : 597888 coarse images observed in 109.619826 s (34.45544604312727 images/sec). Model Saved!\n",
      "Epoch 174 completed : 601344 coarse images observed in 113.147626 s (33.38116877503024 images/sec). Model Saved!\n",
      "Epoch 175 completed : 604800 coarse images observed in 112.937064 s (33.44340525799395 images/sec). Model Saved!\n",
      "Epoch 176 completed : 608256 coarse images observed in 113.266926 s (33.34600958447482 images/sec). Model Saved!\n",
      "Epoch 177 completed : 611712 coarse images observed in 113.546499 s (33.263905389104075 images/sec). Model Saved!\n",
      "Epoch 178 completed : 615168 coarse images observed in 114.643883 s (32.945499586750735 images/sec). Model Saved!\n",
      "Epoch 179 completed : 618624 coarse images observed in 115.130262 s (32.80631811643059 images/sec). Model Saved!\n",
      "Epoch 180 completed : 622080 coarse images observed in 151.145794 s (24.989117460986048 images/sec). Model Saved!\n",
      "Epoch 181 completed : 625536 coarse images observed in 110.591052 s (34.152853523809505 images/sec). Model Saved!\n",
      "Epoch 182 completed : 628992 coarse images observed in 152.595067 s (24.75178309663182 images/sec). Model Saved!\n",
      "Epoch 183 completed : 632448 coarse images observed in 109.906816 s (34.365475567957496 images/sec). Model Saved!\n",
      "Epoch 184 completed : 635904 coarse images observed in 113.241401 s (33.35352588935208 images/sec). Model Saved!\n",
      "Epoch 185 completed : 639360 coarse images observed in 146.329297 s (25.81164590710772 images/sec). Model Saved!\n",
      "Epoch 186 completed : 642816 coarse images observed in 156.606155 s (24.11782602031191 images/sec). Model Saved!\n",
      "Epoch 187 completed : 646272 coarse images observed in 162.202616 s (23.28569102732597 images/sec). Model Saved!\n",
      "Epoch 188 completed : 649728 coarse images observed in 126.365455 s (29.889497885320004 images/sec). Model Saved!\n",
      "Epoch 189 completed : 653184 coarse images observed in 113.808083 s (33.18744943625841 images/sec). Model Saved!\n",
      "Epoch 190 completed : 656640 coarse images observed in 179.820802 s (21.004243991749075 images/sec). Model Saved!\n",
      "Epoch 191 completed : 660096 coarse images observed in 182.570993 s (20.687842783437127 images/sec). Model Saved!\n",
      "Epoch 192 completed : 663552 coarse images observed in 154.709142 s (24.413554048409107 images/sec). Model Saved!\n",
      "Epoch 193 completed : 667008 coarse images observed in 112.398499 s (33.6036515932477 images/sec). Model Saved!\n",
      "Epoch 194 completed : 670464 coarse images observed in 114.487383 s (32.990534860946205 images/sec). Model Saved!\n",
      "Epoch 195 completed : 673920 coarse images observed in 113.548828 s (33.26322311314389 images/sec). Model Saved!\n",
      "Epoch 196 completed : 677376 coarse images observed in 114.456637 s (32.999396968128636 images/sec). Model Saved!\n",
      "Epoch 197 completed : 680832 coarse images observed in 114.910571 s (32.869038654415874 images/sec). Model Saved!\n",
      "Epoch 198 completed : 684288 coarse images observed in 114.013765 s (33.12757893750811 images/sec). Model Saved!\n",
      "Epoch 199 completed : 687744 coarse images observed in 114.68131 s (32.934747606214124 images/sec). Model Saved!\n",
      "Epoch 200 completed : 691200 coarse images observed in 115.629273 s (32.66473879845288 images/sec). Model Saved!\n",
      "Epoch 201 completed : 694656 coarse images observed in 114.263692 s (33.055119556262895 images/sec). Model Saved!\n",
      "Epoch 202 completed : 698112 coarse images observed in 114.579016 s (32.9641511321759 images/sec). Model Saved!\n",
      "Epoch 203 completed : 701568 coarse images observed in 113.475279 s (33.28478267059383 images/sec). Model Saved!\n",
      "Epoch 204 completed : 705024 coarse images observed in 113.915965 s (33.15601987833751 images/sec). Model Saved!\n",
      "Epoch 205 completed : 708480 coarse images observed in 150.427334 s (25.108468651049815 images/sec). Model Saved!\n",
      "Epoch 206 completed : 711936 coarse images observed in 110.468172 s (34.190843675769344 images/sec). Model Saved!\n",
      "Epoch 207 completed : 715392 coarse images observed in 112.917166 s (33.44929857697633 images/sec). Model Saved!\n",
      "Epoch 208 completed : 718848 coarse images observed in 112.72396 s (33.506629823863534 images/sec). Model Saved!\n",
      "Epoch 209 completed : 722304 coarse images observed in 113.439453 s (33.29529453919352 images/sec). Model Saved!\n",
      "Epoch 210 completed : 725760 coarse images observed in 150.911458 s (25.02792067650688 images/sec). Model Saved!\n",
      "Epoch 211 completed : 729216 coarse images observed in 110.053788 s (34.319581984765485 images/sec). Model Saved!\n",
      "Epoch 212 completed : 732672 coarse images observed in 113.702982 s (33.21812615257531 images/sec). Model Saved!\n",
      "Epoch 213 completed : 736128 coarse images observed in 112.365204 s (33.613608711109535 images/sec). Model Saved!\n",
      "Epoch 214 completed : 739584 coarse images observed in 113.704352 s (33.21772591430801 images/sec). Model Saved!\n",
      "Epoch 215 completed : 743040 coarse images observed in 112.850634 s (33.46901888030155 images/sec). Model Saved!\n",
      "Epoch 216 completed : 746496 coarse images observed in 113.134655 s (33.38499595901892 images/sec). Model Saved!\n",
      "Epoch 217 completed : 749952 coarse images observed in 113.650919 s (33.2333432341185 images/sec). Model Saved!\n",
      "Epoch 218 completed : 753408 coarse images observed in 113.923656 s (33.15378151136582 images/sec). Model Saved!\n",
      "Epoch 219 completed : 756864 coarse images observed in 113.78436 s (33.19436871640355 images/sec). Model Saved!\n",
      "Epoch 220 completed : 760320 coarse images observed in 114.315688 s (33.040084577017986 images/sec). Model Saved!\n",
      "Epoch 221 completed : 763776 coarse images observed in 113.946688 s (33.147080150324335 images/sec). Model Saved!\n",
      "Epoch 222 completed : 767232 coarse images observed in 151.275361 s (24.96771433915137 images/sec). Model Saved!\n",
      "Epoch 223 completed : 770688 coarse images observed in 109.565462 s (34.472542086300884 images/sec). Model Saved!\n",
      "Epoch 224 completed : 774144 coarse images observed in 111.493409 s (33.87644196976702 images/sec). Model Saved!\n",
      "Epoch 225 completed : 777600 coarse images observed in 113.509421 s (33.274771087062454 images/sec). Model Saved!\n",
      "Epoch 226 completed : 781056 coarse images observed in 113.227669 s (33.35757093082964 images/sec). Model Saved!\n",
      "Epoch 227 completed : 784512 coarse images observed in 113.470353 s (33.28622763692292 images/sec). Model Saved!\n",
      "Epoch 228 completed : 787968 coarse images observed in 114.5652 s (32.96812644677441 images/sec). Model Saved!\n",
      "Epoch 229 completed : 791424 coarse images observed in 113.862326 s (33.171639230345605 images/sec). Model Saved!\n",
      "Epoch 230 completed : 794880 coarse images observed in 113.555761 s (33.26119227011301 images/sec). Model Saved!\n",
      "Epoch 231 completed : 798336 coarse images observed in 151.260461 s (24.97017379842575 images/sec). Model Saved!\n",
      "Epoch 232 completed : 801792 coarse images observed in 109.81252 s (34.39498519840907 images/sec). Model Saved!\n",
      "Epoch 233 completed : 805248 coarse images observed in 111.79317 s (33.785606043732365 images/sec). Model Saved!\n",
      "Epoch 234 completed : 808704 coarse images observed in 113.45627 s (33.290359360483116 images/sec). Model Saved!\n",
      "Epoch 235 completed : 812160 coarse images observed in 152.903878 s (24.701793371126925 images/sec). Model Saved!\n",
      "Epoch 236 completed : 815616 coarse images observed in 110.197754 s (34.27474574481799 images/sec). Model Saved!\n",
      "Epoch 237 completed : 819072 coarse images observed in 112.176709 s (33.670090999014775 images/sec). Model Saved!\n",
      "Epoch 238 completed : 822528 coarse images observed in 113.734367 s (33.208959610246914 images/sec). Model Saved!\n",
      "Epoch 239 completed : 825984 coarse images observed in 113.020952 s (33.41858242354922 images/sec). Model Saved!\n",
      "Epoch 240 completed : 829440 coarse images observed in 114.281175 s (33.05006270717815 images/sec). Model Saved!\n",
      "Epoch 241 completed : 832896 coarse images observed in 113.422924 s (33.300146626443876 images/sec). Model Saved!\n",
      "Epoch 242 completed : 836352 coarse images observed in 113.887776 s (33.164226510139244 images/sec). Model Saved!\n",
      "Epoch 243 completed : 839808 coarse images observed in 114.658855 s (32.9411976074591 images/sec). Model Saved!\n",
      "Epoch 244 completed : 843264 coarse images observed in 114.107164 s (33.10046335039928 images/sec). Model Saved!\n",
      "Epoch 245 completed : 846720 coarse images observed in 153.435901 s (24.61614247632958 images/sec). Model Saved!\n",
      "Epoch 246 completed : 850176 coarse images observed in 109.744443 s (34.41632119814941 images/sec). Model Saved!\n",
      "Epoch 247 completed : 853632 coarse images observed in 112.764267 s (33.49465305352448 images/sec). Model Saved!\n",
      "Epoch 248 completed : 857088 coarse images observed in 151.725298 s (24.893673301600632 images/sec). Model Saved!\n",
      "Epoch 249 completed : 860544 coarse images observed in 109.300688 s (34.556049638040705 images/sec). Model Saved!\n",
      "Epoch 250 completed : 864000 coarse images observed in 112.604648 s (33.54213229279843 images/sec). Model Saved!\n",
      "Epoch 251 completed : 867456 coarse images observed in 111.837623 s (33.77217700701669 images/sec). Model Saved!\n",
      "Epoch 252 completed : 870912 coarse images observed in 112.290152 s (33.636075227683364 images/sec). Model Saved!\n",
      "Epoch 253 completed : 874368 coarse images observed in 114.667206 s (32.93879856111607 images/sec). Model Saved!\n",
      "Epoch 254 completed : 877824 coarse images observed in 117.673576 s (32.09726540476683 images/sec). Model Saved!\n",
      "Epoch 255 completed : 881280 coarse images observed in 113.471556 s (33.285874743799226 images/sec). Model Saved!\n",
      "Epoch 256 completed : 884736 coarse images observed in 153.336874 s (24.63203990972191 images/sec). Model Saved!\n",
      "Epoch 257 completed : 888192 coarse images observed in 110.430526 s (34.20249940673107 images/sec). Model Saved!\n",
      "Epoch 258 completed : 891648 coarse images observed in 113.48426 s (33.282148555226954 images/sec). Model Saved!\n",
      "Epoch 259 completed : 895104 coarse images observed in 113.203949 s (33.3645604536287 images/sec). Model Saved!\n",
      "Epoch 260 completed : 898560 coarse images observed in 113.136047 s (33.38458519767798 images/sec). Model Saved!\n",
      "Epoch 261 completed : 902016 coarse images observed in 153.144949 s (24.662909385277867 images/sec). Model Saved!\n",
      "Epoch 262 completed : 905472 coarse images observed in 109.09521 s (34.621135061750195 images/sec). Model Saved!\n",
      "Epoch 263 completed : 908928 coarse images observed in 112.740608 s (33.50168202037725 images/sec). Model Saved!\n",
      "Epoch 264 completed : 912384 coarse images observed in 113.519248 s (33.27189059603354 images/sec). Model Saved!\n",
      "Epoch 265 completed : 915840 coarse images observed in 153.583951 s (24.59241330495528 images/sec). Model Saved!\n",
      "Epoch 266 completed : 919296 coarse images observed in 109.40672 s (34.522559491775276 images/sec). Model Saved!\n",
      "Epoch 267 completed : 922752 coarse images observed in 111.683319 s (33.8188373502761 images/sec). Model Saved!\n",
      "Epoch 268 completed : 926208 coarse images observed in 112.67402 s (33.52148081696207 images/sec). Model Saved!\n",
      "Epoch 269 completed : 929664 coarse images observed in 113.531652 s (33.26825544650755 images/sec). Model Saved!\n",
      "Epoch 270 completed : 933120 coarse images observed in 113.800886 s (33.18954827820936 images/sec). Model Saved!\n",
      "Epoch 271 completed : 936576 coarse images observed in 113.309855 s (33.33337598922883 images/sec). Model Saved!\n",
      "Epoch 272 completed : 940032 coarse images observed in 113.882637 s (33.16572305925793 images/sec). Model Saved!\n",
      "Epoch 273 completed : 943488 coarse images observed in 113.972135 s (33.13967927335923 images/sec). Model Saved!\n",
      "Epoch 274 completed : 946944 coarse images observed in 113.82227 s (33.18331289650083 images/sec). Model Saved!\n",
      "Epoch 275 completed : 950400 coarse images observed in 151.979689 s (24.852005059702417 images/sec). Model Saved!\n",
      "Epoch 276 completed : 953856 coarse images observed in 110.607089 s (34.147901677441304 images/sec). Model Saved!\n",
      "Epoch 277 completed : 957312 coarse images observed in 112.152577 s (33.6773358315253 images/sec). Model Saved!\n",
      "Epoch 278 completed : 960768 coarse images observed in 113.055895 s (33.408253501509144 images/sec). Model Saved!\n",
      "Epoch 279 completed : 964224 coarse images observed in 112.423093 s (33.59630036152804 images/sec). Model Saved!\n",
      "Epoch 280 completed : 967680 coarse images observed in 113.760154 s (33.2014318475694 images/sec). Model Saved!\n",
      "Epoch 281 completed : 971136 coarse images observed in 113.368982 s (33.315991141210034 images/sec). Model Saved!\n",
      "Epoch 282 completed : 974592 coarse images observed in 151.312668 s (24.96155840699339 images/sec). Model Saved!\n",
      "Epoch 283 completed : 978048 coarse images observed in 110.34737 s (34.22827385917761 images/sec). Model Saved!\n",
      "Epoch 284 completed : 981504 coarse images observed in 112.720123 s (33.50777039162741 images/sec). Model Saved!\n",
      "Epoch 285 completed : 984960 coarse images observed in 113.639946 s (33.23655222433844 images/sec). Model Saved!\n",
      "Epoch 286 completed : 988416 coarse images observed in 112.725036 s (33.50630999133147 images/sec). Model Saved!\n",
      "Epoch 287 completed : 991872 coarse images observed in 153.49458 s (24.606732042264944 images/sec). Model Saved!\n",
      "Epoch 288 completed : 995328 coarse images observed in 110.064247 s (34.316320721296535 images/sec). Model Saved!\n",
      "Epoch 289 completed : 998784 coarse images observed in 112.91518 s (33.44988689740387 images/sec). Model Saved!\n",
      "Epoch 290 completed : 1002240 coarse images observed in 113.035998 s (33.414134141585585 images/sec). Model Saved!\n",
      "Epoch 291 completed : 1005696 coarse images observed in 113.039112 s (33.41321364944905 images/sec). Model Saved!\n",
      "Epoch 292 completed : 1009152 coarse images observed in 150.506327 s (25.09529051227195 images/sec). Model Saved!\n",
      "Epoch 293 completed : 1012608 coarse images observed in 110.630233 s (34.14075788848786 images/sec). Model Saved!\n",
      "Epoch 294 completed : 1016064 coarse images observed in 113.16208 s (33.376905055120936 images/sec). Model Saved!\n",
      "Epoch 295 completed : 1019520 coarse images observed in 113.87793 s (33.16709392241324 images/sec). Model Saved!\n",
      "Epoch 296 completed : 1022976 coarse images observed in 113.081934 s (33.4005606943369 images/sec). Model Saved!\n",
      "Epoch 297 completed : 1026432 coarse images observed in 113.71568 s (33.21441686845649 images/sec). Model Saved!\n",
      "Epoch 298 completed : 1029888 coarse images observed in 113.768359 s (33.19903735273179 images/sec). Model Saved!\n",
      "Epoch 299 completed : 1033344 coarse images observed in 113.615366 s (33.243742752190755 images/sec). Model Saved!\n",
      "Epoch 300 completed : 1036800 coarse images observed in 115.422609 s (32.72322496193099 images/sec). Model Saved!\n",
      "Epoch 301 completed : 1040256 coarse images observed in 114.002039 s (33.13098636770874 images/sec). Model Saved!\n",
      "Epoch 302 completed : 1043712 coarse images observed in 113.456755 s (33.29021705230332 images/sec). Model Saved!\n",
      "Epoch 303 completed : 1047168 coarse images observed in 113.623581 s (33.24133922517369 images/sec). Model Saved!\n",
      "Epoch 304 completed : 1050624 coarse images observed in 150.527278 s (25.091797647466926 images/sec). Model Saved!\n",
      "Epoch 305 completed : 1054080 coarse images observed in 110.826444 s (34.08031390053443 images/sec). Model Saved!\n",
      "Epoch 306 completed : 1057536 coarse images observed in 128.755381 s (29.334696310673028 images/sec). Model Saved!\n",
      "Epoch 307 completed : 1060992 coarse images observed in 152.630494 s (24.746037970629907 images/sec). Model Saved!\n",
      "Epoch 308 completed : 1064448 coarse images observed in 110.614457 s (34.14562709465726 images/sec). Model Saved!\n",
      "Epoch 309 completed : 1067904 coarse images observed in 111.208084 s (33.963358275285096 images/sec). Model Saved!\n",
      "Epoch 310 completed : 1071360 coarse images observed in 113.032047 s (33.415302122237954 images/sec). Model Saved!\n",
      "Epoch 311 completed : 1074816 coarse images observed in 113.011653 s (33.42133222314693 images/sec). Model Saved!\n",
      "Epoch 312 completed : 1078272 coarse images observed in 151.069991 s (25.001656351458976 images/sec). Model Saved!\n",
      "Epoch 313 completed : 1081728 coarse images observed in 111.220709 s (33.95950299147976 images/sec). Model Saved!\n",
      "Epoch 314 completed : 1085184 coarse images observed in 112.563523 s (33.55438688606077 images/sec). Model Saved!\n",
      "Epoch 315 completed : 1088640 coarse images observed in 112.887358 s (33.4581308918577 images/sec). Model Saved!\n",
      "Epoch 316 completed : 1092096 coarse images observed in 112.950303 s (33.43948532833949 images/sec). Model Saved!\n",
      "Epoch 317 completed : 1095552 coarse images observed in 113.219139 s (33.36008411086751 images/sec). Model Saved!\n",
      "Epoch 318 completed : 1099008 coarse images observed in 129.781662 s (29.102724851836154 images/sec). Model Saved!\n",
      "Epoch 319 completed : 1102464 coarse images observed in 150.81183 s (25.04445440387535 images/sec). Model Saved!\n",
      "Epoch 320 completed : 1105920 coarse images observed in 111.177775 s (33.972617278948064 images/sec). Model Saved!\n",
      "Epoch 321 completed : 1109376 coarse images observed in 112.761187 s (33.49556793863832 images/sec). Model Saved!\n",
      "Epoch 322 completed : 1112832 coarse images observed in 152.794076 s (24.719544755125195 images/sec). Model Saved!\n",
      "Epoch 323 completed : 1116288 coarse images observed in 110.006216 s (34.33442342930876 images/sec). Model Saved!\n",
      "Epoch 324 completed : 1119744 coarse images observed in 111.789842 s (33.78661184618188 images/sec). Model Saved!\n",
      "Epoch 325 completed : 1123200 coarse images observed in 112.457913 s (33.585898041696716 images/sec). Model Saved!\n",
      "Epoch 326 completed : 1126656 coarse images observed in 112.839757 s (33.47224507050294 images/sec). Model Saved!\n",
      "Epoch 327 completed : 1130112 coarse images observed in 113.695096 s (33.22043019340077 images/sec). Model Saved!\n",
      "Epoch 328 completed : 1133568 coarse images observed in 114.487081 s (32.9906218851016 images/sec). Model Saved!\n",
      "Epoch 329 completed : 1137024 coarse images observed in 149.702147 s (25.23009907132461 images/sec). Model Saved!\n",
      "Epoch 330 completed : 1140480 coarse images observed in 156.217576 s (24.177817225892685 images/sec). Model Saved!\n",
      "Epoch 331 completed : 1143936 coarse images observed in 110.504211 s (34.17969293495974 images/sec). Model Saved!\n",
      "Epoch 332 completed : 1147392 coarse images observed in 112.774037 s (33.491751297330964 images/sec). Model Saved!\n",
      "Epoch 333 completed : 1150848 coarse images observed in 152.224202 s (24.812086057117252 images/sec). Model Saved!\n",
      "Epoch 334 completed : 1154304 coarse images observed in 111.079681 s (34.002618354656605 images/sec). Model Saved!\n",
      "Epoch 335 completed : 1157760 coarse images observed in 151.60352 s (24.913669550680616 images/sec). Model Saved!\n",
      "Epoch 336 completed : 1161216 coarse images observed in 153.136816 s (24.66421921688642 images/sec). Model Saved!\n",
      "Epoch 337 completed : 1164672 coarse images observed in 110.934122 s (34.0472339069849 images/sec). Model Saved!\n",
      "Epoch 338 completed : 1168128 coarse images observed in 112.758112 s (33.49648138840778 images/sec). Model Saved!\n",
      "Epoch 339 completed : 1171584 coarse images observed in 112.429861 s (33.59427794720835 images/sec). Model Saved!\n",
      "Epoch 340 completed : 1175040 coarse images observed in 113.168076 s (33.375136641891835 images/sec). Model Saved!\n",
      "Epoch 341 completed : 1178496 coarse images observed in 114.048489 s (33.117492683309464 images/sec). Model Saved!\n",
      "Epoch 342 completed : 1181952 coarse images observed in 113.414377 s (33.30265615266749 images/sec). Model Saved!\n",
      "Epoch 343 completed : 1185408 coarse images observed in 113.73284 s (33.20940548042237 images/sec). Model Saved!\n",
      "Epoch 344 completed : 1188864 coarse images observed in 114.154426 s (33.08675915903602 images/sec). Model Saved!\n",
      "Epoch 345 completed : 1192320 coarse images observed in 151.675504 s (24.901845719266575 images/sec). Model Saved!\n",
      "Epoch 346 completed : 1195776 coarse images observed in 109.783749 s (34.40399908368952 images/sec). Model Saved!\n",
      "Epoch 347 completed : 1199232 coarse images observed in 152.463187 s (24.77319328238888 images/sec). Model Saved!\n",
      "Epoch 348 completed : 1202688 coarse images observed in 109.96326 s (34.34783581352535 images/sec). Model Saved!\n",
      "Epoch 349 completed : 1206144 coarse images observed in 112.987236 s (33.42855470860443 images/sec). Model Saved!\n",
      "Epoch 350 completed : 1209600 coarse images observed in 114.341644 s (33.032584348708504 images/sec). Model Saved!\n",
      "Epoch 351 completed : 1213056 coarse images observed in 113.544643 s (33.26444912068639 images/sec). Model Saved!\n",
      "Epoch 352 completed : 1216512 coarse images observed in 113.895083 s (33.16209884143989 images/sec). Model Saved!\n",
      "Epoch 353 completed : 1219968 coarse images observed in 150.208995 s (25.144965519541625 images/sec). Model Saved!\n",
      "Epoch 354 completed : 1223424 coarse images observed in 109.830613 s (34.38931912362175 images/sec). Model Saved!\n",
      "Epoch 355 completed : 1226880 coarse images observed in 112.745439 s (33.500246515515364 images/sec). Model Saved!\n",
      "Epoch 356 completed : 1230336 coarse images observed in 154.884283 s (24.38594753994503 images/sec). Model Saved!\n",
      "Epoch 357 completed : 1233792 coarse images observed in 157.042878 s (24.050756380050547 images/sec). Model Saved!\n",
      "Epoch 358 completed : 1237248 coarse images observed in 155.843473 s (24.235856191423558 images/sec). Model Saved!\n",
      "Epoch 359 completed : 1240704 coarse images observed in 112.183282 s (33.66811821390642 images/sec). Model Saved!\n",
      "Epoch 360 completed : 1244160 coarse images observed in 150.217499 s (25.14354203167768 images/sec). Model Saved!\n",
      "Epoch 361 completed : 1247616 coarse images observed in 110.182592 s (34.2794622221267 images/sec). Model Saved!\n",
      "Epoch 362 completed : 1251072 coarse images observed in 112.863532 s (33.46519405400143 images/sec). Model Saved!\n",
      "Epoch 363 completed : 1254528 coarse images observed in 113.031159 s (33.41556464089694 images/sec). Model Saved!\n",
      "Epoch 364 completed : 1257984 coarse images observed in 114.02643 s (33.12389943278939 images/sec). Model Saved!\n",
      "Epoch 365 completed : 1261440 coarse images observed in 154.402511 s (24.46203740818697 images/sec). Model Saved!\n",
      "Epoch 366 completed : 1264896 coarse images observed in 155.537737 s (24.2834959081345 images/sec). Model Saved!\n",
      "Epoch 367 completed : 1268352 coarse images observed in 110.864952 s (34.06847639279184 images/sec). Model Saved!\n",
      "Epoch 368 completed : 1271808 coarse images observed in 151.090448 s (24.998271234194764 images/sec). Model Saved!\n",
      "Epoch 369 completed : 1275264 coarse images observed in 110.321904 s (34.236174894153386 images/sec). Model Saved!\n",
      "Epoch 370 completed : 1278720 coarse images observed in 112.335566 s (33.62247714138904 images/sec). Model Saved!\n",
      "Epoch 371 completed : 1282176 coarse images observed in 113.135471 s (33.3847551666621 images/sec). Model Saved!\n",
      "Epoch 372 completed : 1285632 coarse images observed in 113.637564 s (33.23724890829233 images/sec). Model Saved!\n",
      "Epoch 373 completed : 1289088 coarse images observed in 113.939616 s (33.14913752210644 images/sec). Model Saved!\n",
      "Epoch 374 completed : 1292544 coarse images observed in 113.964441 s (33.14191660888329 images/sec). Model Saved!\n",
      "Epoch 375 completed : 1296000 coarse images observed in 113.695992 s (33.220168394326514 images/sec). Model Saved!\n",
      "Epoch 376 completed : 1299456 coarse images observed in 151.533943 s (24.925108693304445 images/sec). Model Saved!\n",
      "Epoch 377 completed : 1302912 coarse images observed in 110.333271 s (34.23264773868618 images/sec). Model Saved!\n",
      "Epoch 378 completed : 1306368 coarse images observed in 151.196092 s (24.980804398039602 images/sec). Model Saved!\n",
      "Epoch 379 completed : 1309824 coarse images observed in 110.407305 s (34.20969291841695 images/sec). Model Saved!\n",
      "Epoch 380 completed : 1313280 coarse images observed in 112.326254 s (33.62526449070401 images/sec). Model Saved!\n",
      "Epoch 381 completed : 1316736 coarse images observed in 113.743405 s (33.206320841195144 images/sec). Model Saved!\n",
      "Epoch 382 completed : 1320192 coarse images observed in 114.107828 s (33.10027073690335 images/sec). Model Saved!\n",
      "Epoch 383 completed : 1323648 coarse images observed in 113.522676 s (33.270885897721435 images/sec). Model Saved!\n",
      "Epoch 384 completed : 1327104 coarse images observed in 113.382613 s (33.3119858509523 images/sec). Model Saved!\n",
      "Epoch 385 completed : 1330560 coarse images observed in 113.583597 s (33.25304092984483 images/sec). Model Saved!\n",
      "Epoch 386 completed : 1334016 coarse images observed in 114.093364 s (33.10446696970036 images/sec). Model Saved!\n",
      "Epoch 387 completed : 1337472 coarse images observed in 113.618984 s (33.24268416270999 images/sec). Model Saved!\n",
      "Epoch 388 completed : 1340928 coarse images observed in 114.665677 s (32.93923778080515 images/sec). Model Saved!\n",
      "Epoch 389 completed : 1344384 coarse images observed in 150.697881 s (25.063391568193317 images/sec). Model Saved!\n",
      "Epoch 390 completed : 1347840 coarse images observed in 110.378882 s (34.218502050057005 images/sec). Model Saved!\n",
      "Epoch 391 completed : 1351296 coarse images observed in 113.80084 s (33.189561693920716 images/sec). Model Saved!\n",
      "Epoch 392 completed : 1354752 coarse images observed in 112.336048 s (33.622332877510516 images/sec). Model Saved!\n",
      "Epoch 393 completed : 1358208 coarse images observed in 113.529739 s (33.26881602361475 images/sec). Model Saved!\n",
      "Epoch 394 completed : 1361664 coarse images observed in 153.080281 s (24.67332810814477 images/sec). Model Saved!\n",
      "Epoch 395 completed : 1365120 coarse images observed in 154.337144 s (24.472397908309098 images/sec). Model Saved!\n",
      "Epoch 396 completed : 1368576 coarse images observed in 154.289509 s (24.479953462033507 images/sec). Model Saved!\n",
      "Epoch 397 completed : 1372032 coarse images observed in 149.651186 s (25.23869072444237 images/sec). Model Saved!\n",
      "Epoch 398 completed : 1375488 coarse images observed in 114.219186 s (33.06799962661265 images/sec). Model Saved!\n",
      "Epoch 399 completed : 1378944 coarse images observed in 151.641679 s (24.907400293292714 images/sec). Model Saved!\n",
      "Epoch 400 completed : 1382400 coarse images observed in 152.99676 s (24.68679728904063 images/sec). Model Saved!\n",
      "Epoch 401 completed : 1385856 coarse images observed in 152.652875 s (24.742409862899734 images/sec). Model Saved!\n",
      "Epoch 402 completed : 1389312 coarse images observed in 155.306553 s (24.319643486002807 images/sec). Model Saved!\n",
      "Epoch 403 completed : 1392768 coarse images observed in 129.619113 s (29.139221157916733 images/sec). Model Saved!\n",
      "Epoch 404 completed : 1396224 coarse images observed in 112.243153 s (33.65015948901578 images/sec). Model Saved!\n",
      "Epoch 405 completed : 1399680 coarse images observed in 153.014518 s (24.683932278896567 images/sec). Model Saved!\n",
      "Epoch 406 completed : 1403136 coarse images observed in 153.60879 s (24.588436638293942 images/sec). Model Saved!\n",
      "Epoch 407 completed : 1406592 coarse images observed in 112.667633 s (33.52338111159219 images/sec). Model Saved!\n",
      "Epoch 408 completed : 1410048 coarse images observed in 151.537705 s (24.9244899149027 images/sec). Model Saved!\n",
      "Epoch 409 completed : 1413504 coarse images observed in 110.17028 s (34.28329309864693 images/sec). Model Saved!\n",
      "Epoch 410 completed : 1416960 coarse images observed in 111.932897 s (33.74343112016479 images/sec). Model Saved!\n",
      "Epoch 411 completed : 1420416 coarse images observed in 112.506246 s (33.57146944534973 images/sec). Model Saved!\n",
      "Epoch 412 completed : 1423872 coarse images observed in 112.683067 s (33.51878947348851 images/sec). Model Saved!\n",
      "Epoch 413 completed : 1427328 coarse images observed in 113.285477 s (33.34054902730383 images/sec). Model Saved!\n",
      "Epoch 414 completed : 1430784 coarse images observed in 113.904274 s (33.159422973013285 images/sec). Model Saved!\n",
      "Epoch 415 completed : 1434240 coarse images observed in 114.193847 s (33.07533723774101 images/sec). Model Saved!\n",
      "Epoch 416 completed : 1437696 coarse images observed in 151.867686 s (24.870333508604325 images/sec). Model Saved!\n",
      "Epoch 417 completed : 1441152 coarse images observed in 110.867337 s (34.06774350501446 images/sec). Model Saved!\n",
      "Epoch 418 completed : 1444608 coarse images observed in 151.599071 s (24.914400695766794 images/sec). Model Saved!\n",
      "Epoch 419 completed : 1448064 coarse images observed in 153.385002 s (24.624311052263117 images/sec). Model Saved!\n",
      "Epoch 420 completed : 1451520 coarse images observed in 111.401733 s (33.90431996241926 images/sec). Model Saved!\n",
      "Epoch 421 completed : 1454976 coarse images observed in 112.464292 s (33.58399304198705 images/sec). Model Saved!\n",
      "Epoch 422 completed : 1458432 coarse images observed in 113.303637 s (33.33520529442493 images/sec). Model Saved!\n",
      "Epoch 423 completed : 1461888 coarse images observed in 113.615324 s (33.2437550413534 images/sec). Model Saved!\n",
      "Epoch 424 completed : 1465344 coarse images observed in 113.493608 s (33.279407242036044 images/sec). Model Saved!\n",
      "Epoch 425 completed : 1468800 coarse images observed in 153.611382 s (24.588021739170344 images/sec). Model Saved!\n",
      "Epoch 426 completed : 1472256 coarse images observed in 154.397557 s (24.462822297117043 images/sec). Model Saved!\n",
      "Epoch 427 completed : 1475712 coarse images observed in 150.524003 s (25.092343577920925 images/sec). Model Saved!\n",
      "Epoch 428 completed : 1479168 coarse images observed in 153.832032 s (24.552753746371888 images/sec). Model Saved!\n",
      "Epoch 429 completed : 1482624 coarse images observed in 111.950696 s (33.73806626445628 images/sec). Model Saved!\n",
      "Epoch 430 completed : 1486080 coarse images observed in 114.135811 s (33.0921554497913 images/sec). Model Saved!\n",
      "Epoch 431 completed : 1489536 coarse images observed in 113.279799 s (33.34222017819788 images/sec). Model Saved!\n",
      "Epoch 432 completed : 1492992 coarse images observed in 114.006476 s (33.129696948092665 images/sec). Model Saved!\n",
      "Epoch 433 completed : 1496448 coarse images observed in 151.097878 s (24.99704198360747 images/sec). Model Saved!\n",
      "Epoch 434 completed : 1499904 coarse images observed in 148.082288 s (25.506088884850293 images/sec). Model Saved!\n",
      "Epoch 435 completed : 1503360 coarse images observed in 154.525047 s (24.44263938648082 images/sec). Model Saved!\n",
      "Epoch 436 completed : 1506816 coarse images observed in 112.581545 s (33.54901551582011 images/sec). Model Saved!\n",
      "Epoch 437 completed : 1510272 coarse images observed in 113.691545 s (33.22146778812795 images/sec). Model Saved!\n",
      "Epoch 438 completed : 1513728 coarse images observed in 152.01416 s (24.84636957504485 images/sec). Model Saved!\n",
      "Epoch 439 completed : 1517184 coarse images observed in 124.24531 s (30.3995378175643 images/sec). Model Saved!\n",
      "Epoch 440 completed : 1520640 coarse images observed in 112.684008 s (33.51850956526147 images/sec). Model Saved!\n",
      "Epoch 441 completed : 1524096 coarse images observed in 112.850868 s (33.46894948118609 images/sec). Model Saved!\n",
      "Epoch 442 completed : 1527552 coarse images observed in 151.20045 s (24.980084384669492 images/sec). Model Saved!\n",
      "Epoch 443 completed : 1531008 coarse images observed in 125.909021 s (29.997850590864335 images/sec). Model Saved!\n",
      "Epoch 444 completed : 1534464 coarse images observed in 112.715317 s (33.50919910911487 images/sec). Model Saved!\n",
      "Epoch 445 completed : 1537920 coarse images observed in 150.654597 s (25.070592436021055 images/sec). Model Saved!\n",
      "Epoch 446 completed : 1541376 coarse images observed in 110.361852 s (34.223782326523484 images/sec). Model Saved!\n",
      "Epoch 447 completed : 1544832 coarse images observed in 113.360126 s (33.31859387665113 images/sec). Model Saved!\n",
      "Epoch 448 completed : 1548288 coarse images observed in 153.143104 s (24.663206513040247 images/sec). Model Saved!\n",
      "Epoch 449 completed : 1551744 coarse images observed in 110.634783 s (34.13935380521332 images/sec). Model Saved!\n",
      "Epoch 450 completed : 1555200 coarse images observed in 150.998168 s (25.013548508747473 images/sec). Model Saved!\n",
      "Epoch 451 completed : 1558656 coarse images observed in 152.800783 s (24.718459721505486 images/sec). Model Saved!\n",
      "Epoch 452 completed : 1562112 coarse images observed in 155.485532 s (24.29164920630686 images/sec). Model Saved!\n",
      "Epoch 453 completed : 1565568 coarse images observed in 152.874971 s (24.706464212509974 images/sec). Model Saved!\n",
      "Epoch 454 completed : 1569024 coarse images observed in 155.97892 s (24.21481056542769 images/sec). Model Saved!\n",
      "Epoch 455 completed : 1572480 coarse images observed in 153.583407 s (24.592500412495735 images/sec). Model Saved!\n",
      "Epoch 456 completed : 1575936 coarse images observed in 112.504166 s (33.57209012153381 images/sec). Model Saved!\n",
      "Epoch 457 completed : 1579392 coarse images observed in 113.299771 s (33.33634275394961 images/sec). Model Saved!\n",
      "Epoch 458 completed : 1582848 coarse images observed in 152.185714 s (24.81836107165749 images/sec). Model Saved!\n",
      "Epoch 459 completed : 1586304 coarse images observed in 110.263637 s (34.254266435996485 images/sec). Model Saved!\n",
      "Epoch 460 completed : 1589760 coarse images observed in 154.633598 s (24.425480935908894 images/sec). Model Saved!\n",
      "Epoch 461 completed : 1593216 coarse images observed in 153.195351 s (24.654795170644572 images/sec). Model Saved!\n",
      "Epoch 462 completed : 1596672 coarse images observed in 152.490139 s (24.76881472316056 images/sec). Model Saved!\n",
      "Epoch 463 completed : 1600128 coarse images observed in 112.771799 s (33.4924159540986 images/sec). Model Saved!\n",
      "Epoch 464 completed : 1603584 coarse images observed in 116.288079 s (32.47968349361073 images/sec). Model Saved!\n",
      "Epoch 465 completed : 1607040 coarse images observed in 114.107267 s (33.10043347195407 images/sec). Model Saved!\n",
      "Epoch 466 completed : 1610496 coarse images observed in 172.874177 s (21.848260194465016 images/sec). Model Saved!\n",
      "Epoch 467 completed : 1613952 coarse images observed in 171.142259 s (22.069359269121254 images/sec). Model Saved!\n",
      "Epoch 468 completed : 1617408 coarse images observed in 155.790364 s (24.244118204897447 images/sec). Model Saved!\n",
      "Epoch 469 completed : 1620864 coarse images observed in 154.727651 s (24.410633623591945 images/sec). Model Saved!\n",
      "Epoch 470 completed : 1624320 coarse images observed in 189.217959 s (19.96110739150294 images/sec). Model Saved!\n",
      "Epoch 471 completed : 1627776 coarse images observed in 183.91558 s (20.53659619266622 images/sec). Model Saved!\n",
      "Epoch 472 completed : 1631232 coarse images observed in 193.734275 s (19.49577585071098 images/sec). Model Saved!\n",
      "Epoch 473 completed : 1634688 coarse images observed in 155.004822 s (24.36698388647548 images/sec). Model Saved!\n",
      "Epoch 474 completed : 1638144 coarse images observed in 154.71256 s (24.41301468995148 images/sec). Model Saved!\n",
      "Epoch 475 completed : 1641600 coarse images observed in 134.078207 s (28.170126111546228 images/sec). Model Saved!\n"
     ]
    }
   ],
   "source": [
    "%run -i 'FishFinder/FishFinder_SESSION.py'"
   ]
  },
  {
   "cell_type": "markdown",
   "metadata": {},
   "source": [
    "#### Result \n",
    "Training is 55% faster with this strategy!"
   ]
  },
  {
   "cell_type": "markdown",
   "metadata": {},
   "source": [
    "#### Adjustment\n",
    "Take Regularization off of the classifying layers"
   ]
  },
  {
   "cell_type": "code",
   "execution_count": 20,
   "metadata": {
    "collapsed": true
   },
   "outputs": [],
   "source": [
    "%run -i 'FishFinder/FishFinder_GRAPH.py'"
   ]
  },
  {
   "cell_type": "code",
   "execution_count": 21,
   "metadata": {
    "collapsed": false
   },
   "outputs": [
    {
     "name": "stdout",
     "output_type": "stream",
     "text": [
      "Loading FishFinder_MT version v1.1\n",
      "Metadata dictionary loaded!\n",
      "Initializing restorer...\n",
      "Weights and biases retrieved!  Picking up at 475 epochs completed : 1641600 training images observed\n",
      "Checkpoint saver initialized!\n",
      "\n",
      "Tensorboard initialized!\n",
      "To view your tensorboard dashboard summary, run the following on the command line:\n",
      "\n",
      "tensorboard --logdir='/Users/ccthomps/Documents/ML_Projects/Kaggle Competitions/FF3/FishFinder/v1.1/Tensorboard_logs'\n",
      "\n",
      "\n",
      "TRAINING FishFinder_MT v1.1...\n",
      "Epoch 476 completed : 1645056 coarse images observed in 157.827495 s (23.93119145684977 images/sec). Model Saved!\n",
      "Epoch 477 completed : 1648512 coarse images observed in 159.610072 s (23.663920156617685 images/sec). Model Saved!\n",
      "Epoch 478 completed : 1651968 coarse images observed in 161.881841 s (23.331832506154903 images/sec). Model Saved!\n",
      "Epoch 479 completed : 1655424 coarse images observed in 165.558665 s (22.813665476222585 images/sec). Model Saved!\n",
      "Epoch 480 completed : 1658880 coarse images observed in 196.495899 s (19.221775208652065 images/sec). Model Saved!\n",
      "Epoch 481 completed : 1662336 coarse images observed in 166.45089 s (22.69137761894815 images/sec). Model Saved!\n",
      "Epoch 482 completed : 1665792 coarse images observed in 153.21385 s (24.651818357152436 images/sec). Model Saved!\n",
      "Epoch 483 completed : 1669248 coarse images observed in 156.254219 s (24.172147313347104 images/sec). Model Saved!\n",
      "Epoch 484 completed : 1672704 coarse images observed in 164.632929 s (22.94194741563518 images/sec). Model Saved!\n",
      "Epoch 485 completed : 1676160 coarse images observed in 161.647938 s (23.365593441717763 images/sec). Model Saved!\n",
      "Epoch 486 completed : 1679616 coarse images observed in 167.781 s (22.511488189961913 images/sec). Model Saved!\n",
      "Epoch 487 completed : 1683072 coarse images observed in 175.460325 s (21.52623392211316 images/sec). Model Saved!\n",
      "Epoch 488 completed : 1686528 coarse images observed in 181.131805 s (20.852218637141057 images/sec). Model Saved!\n",
      "Epoch 489 completed : 1689984 coarse images observed in 173.157184 s (21.812551536989652 images/sec). Model Saved!\n",
      "Epoch 490 completed : 1693440 coarse images observed in 172.597983 s (21.883222123169308 images/sec). Model Saved!\n",
      "Epoch 491 completed : 1696896 coarse images observed in 170.375774 s (22.16864470414673 images/sec). Model Saved!\n",
      "Epoch 492 completed : 1700352 coarse images observed in 160.283564 s (23.564487248361907 images/sec). Model Saved!\n",
      "Epoch 493 completed : 1703808 coarse images observed in 159.324357 s (23.70635646124089 images/sec). Model Saved!\n",
      "Epoch 494 completed : 1707264 coarse images observed in 156.957605 s (24.063822839294726 images/sec). Model Saved!\n",
      "Epoch 495 completed : 1710720 coarse images observed in 173.151932 s (21.813213149709473 images/sec). Model Saved!\n",
      "Epoch 496 completed : 1714176 coarse images observed in 171.590017 s (22.011770067019693 images/sec). Model Saved!\n",
      "Epoch 497 completed : 1717632 coarse images observed in 169.078601 s (22.3387228050225 images/sec). Model Saved!\n",
      "Epoch 498 completed : 1721088 coarse images observed in 156.392718 s (24.15074082925012 images/sec). Model Saved!\n",
      "Epoch 499 completed : 1724544 coarse images observed in 169.538903 s (22.27807266158847 images/sec). Model Saved!\n",
      "Epoch 500 completed : 1728000 coarse images observed in 163.203765 s (23.142848450830776 images/sec). Model Saved!\n",
      "Epoch 501 completed : 1731456 coarse images observed in 166.094906 s (22.740011063313403 images/sec). Model Saved!\n",
      "Epoch 502 completed : 1734912 coarse images observed in 156.96665 s (24.062436192656214 images/sec). Model Saved!\n",
      "Epoch 503 completed : 1738368 coarse images observed in 162.293125 s (23.272704866580145 images/sec). Model Saved!\n",
      "Epoch 504 completed : 1741824 coarse images observed in 159.6469 s (23.658461266707967 images/sec). Model Saved!\n",
      "Epoch 505 completed : 1745280 coarse images observed in 181.402296 s (20.821125659842806 images/sec). Model Saved!\n",
      "Epoch 506 completed : 1748736 coarse images observed in 192.833578 s (19.586837723874005 images/sec). Model Saved!\n",
      "Epoch 507 completed : 1752192 coarse images observed in 152.650697 s (24.742762884338482 images/sec). Model Saved!\n",
      "Epoch 508 completed : 1755648 coarse images observed in 153.705986 s (24.572888137225835 images/sec). Model Saved!\n",
      "Epoch 509 completed : 1759104 coarse images observed in 156.057517 s (24.202614988421224 images/sec). Model Saved!\n",
      "Epoch 510 completed : 1762560 coarse images observed in 155.495794 s (24.290046070313647 images/sec). Model Saved!\n",
      "Epoch 511 completed : 1766016 coarse images observed in 166.239866 s (22.720181932774175 images/sec). Model Saved!\n",
      "Epoch 512 completed : 1769472 coarse images observed in 159.78176 s (23.638492904321495 images/sec). Model Saved!\n",
      "Epoch 513 completed : 1772928 coarse images observed in 125.342081 s (30.133535121377154 images/sec). Model Saved!\n",
      "Epoch 514 completed : 1776384 coarse images observed in 117.792034 s (32.064986669641854 images/sec). Model Saved!\n",
      "Epoch 515 completed : 1779840 coarse images observed in 124.73743 s (30.279604125241317 images/sec). Model Saved!\n",
      "Epoch 516 completed : 1783296 coarse images observed in 136.287657 s (27.713441430723254 images/sec). Model Saved!\n",
      "Epoch 517 completed : 1786752 coarse images observed in 133.345902 s (28.32482995990383 images/sec). Model Saved!\n"
     ]
    }
   ],
   "source": [
    "%run -i 'FishFinder/FishFinder_SESSION.py'"
   ]
  },
  {
   "cell_type": "code",
   "execution_count": null,
   "metadata": {
    "collapsed": true
   },
   "outputs": [],
   "source": []
  }
 ],
 "metadata": {
  "kernelspec": {
   "display_name": "Python [conda root]",
   "language": "python",
   "name": "conda-root-py"
  },
  "language_info": {
   "codemirror_mode": {
    "name": "ipython",
    "version": 3
   },
   "file_extension": ".py",
   "mimetype": "text/x-python",
   "name": "python",
   "nbconvert_exporter": "python",
   "pygments_lexer": "ipython3",
   "version": "3.5.2"
  }
 },
 "nbformat": 4,
 "nbformat_minor": 2
}
