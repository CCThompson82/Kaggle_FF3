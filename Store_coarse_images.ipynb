{
 "cells": [
  {
   "cell_type": "markdown",
   "metadata": {},
   "source": [
    "# Store coarse images\n",
    "Retreiving coarse images directly may speed up training.  Currently high resolution image is loaded and resized to lower dimensionality for every time the image is called.  "
   ]
  },
  {
   "cell_type": "markdown",
   "metadata": {},
   "source": [
    "#### Dependencies"
   ]
  },
  {
   "cell_type": "code",
   "execution_count": 7,
   "metadata": {
    "collapsed": true
   },
   "outputs": [],
   "source": [
    "import pickle\n",
    "import numpy as np\n",
    "from scipy import misc\n",
    "import matplotlib.pyplot as plt\n",
    "%matplotlib inline"
   ]
  },
  {
   "cell_type": "markdown",
   "metadata": {},
   "source": [
    "### Load label_dictionary"
   ]
  },
  {
   "cell_type": "code",
   "execution_count": 3,
   "metadata": {
    "collapsed": true
   },
   "outputs": [],
   "source": [
    "with open('label_dictionary.pickle', 'rb') as handle :\n",
    "    label_dictionary = pickle.load(handle)"
   ]
  },
  {
   "cell_type": "code",
   "execution_count": 4,
   "metadata": {
    "collapsed": false
   },
   "outputs": [
    {
     "data": {
      "text/plain": [
       "3777"
      ]
     },
     "execution_count": 4,
     "metadata": {},
     "output_type": "execute_result"
    }
   ],
   "source": [
    "len(label_dictionary)"
   ]
  },
  {
   "cell_type": "markdown",
   "metadata": {},
   "source": [
    "### Test image"
   ]
  },
  {
   "cell_type": "code",
   "execution_count": 5,
   "metadata": {
    "collapsed": false
   },
   "outputs": [
    {
     "name": "stdout",
     "output_type": "stream",
     "text": [
      "data/train/BET/img_01440.jpg\n"
     ]
    }
   ],
   "source": [
    "key = list(label_dictionary.keys())[0]\n",
    "print(key)"
   ]
  },
  {
   "cell_type": "code",
   "execution_count": 6,
   "metadata": {
    "collapsed": true
   },
   "outputs": [],
   "source": [
    "img = misc.imread(key, mode = 'RGB')\n",
    "img_sc = misc.imresize(img, size = [64,112,3], mode = 'RGB')"
   ]
  },
  {
   "cell_type": "code",
   "execution_count": 8,
   "metadata": {
    "collapsed": false
   },
   "outputs": [
    {
     "data": {
      "image/png": "[encoded data removed]",
      "text/plain": [
       "<matplotlib.figure.Figure at 0x10af8c6d8>"
      ]
     },
     "metadata": {},
     "output_type": "display_data"
    }
   ],
   "source": [
    "plt.imshow(img_sc)\n",
    "plt.show()"
   ]
  },
  {
   "cell_type": "code",
   "execution_count": 12,
   "metadata": {
    "collapsed": false
   },
   "outputs": [
    {
     "data": {
      "text/plain": [
       "'data/train/BET/img_01440.jpg'"
      ]
     },
     "execution_count": 12,
     "metadata": {},
     "output_type": "execute_result"
    }
   ],
   "source": [
    "key"
   ]
  },
  {
   "cell_type": "code",
   "execution_count": 19,
   "metadata": {
    "collapsed": false
   },
   "outputs": [
    {
     "name": "stdout",
     "output_type": "stream",
     "text": [
      "data/coarse_train/BET/img_01440.jpg\n"
     ]
    }
   ],
   "source": [
    "new_key = '/data/coarse_'+key[5:]\n",
    "print(new_key)"
   ]
  },
  {
   "cell_type": "code",
   "execution_count": 24,
   "metadata": {
    "collapsed": false
   },
   "outputs": [],
   "source": [
    "misc.imsave(new_key, img_sc, format = 'JPEG')"
   ]
  },
  {
   "cell_type": "markdown",
   "metadata": {},
   "source": [
    "## Experiment on speed of image load"
   ]
  },
  {
   "cell_type": "code",
   "execution_count": 26,
   "metadata": {
    "collapsed": true
   },
   "outputs": [],
   "source": [
    "from datetime import datetime"
   ]
  },
  {
   "cell_type": "code",
   "execution_count": 27,
   "metadata": {
    "collapsed": false
   },
   "outputs": [
    {
     "name": "stdout",
     "output_type": "stream",
     "text": [
      "Time: 0.08972\n",
      "Time: 0.066086\n",
      "Time: 0.061913\n",
      "Time: 0.059596\n",
      "Time: 0.076676\n",
      "Time: 0.068439\n",
      "Time: 0.062025\n",
      "Time: 0.064031\n",
      "Time: 0.076414\n",
      "Time: 0.067572\n"
     ]
    }
   ],
   "source": [
    "for _ in range(10) :\n",
    "    start = datetime.now()\n",
    "    img_sc = misc.imresize(misc.imread(key, mode = 'RGB'), size = [64,112,3])\n",
    "    end = datetime.now()\n",
    "    print(\"Time: {}\".format((end - start).total_seconds()))"
   ]
  },
  {
   "cell_type": "code",
   "execution_count": 28,
   "metadata": {
    "collapsed": false
   },
   "outputs": [
    {
     "name": "stdout",
     "output_type": "stream",
     "text": [
      "Time: 0.029706\n",
      "Time: 0.000863\n",
      "Time: 0.001035\n",
      "Time: 0.00086\n",
      "Time: 0.001077\n",
      "Time: 0.001124\n",
      "Time: 0.001008\n",
      "Time: 0.000921\n",
      "Time: 0.001044\n",
      "Time: 0.000952\n"
     ]
    }
   ],
   "source": [
    "for _ in range(10) :\n",
    "    start = datetime.now()\n",
    "    img_sc = misc.imread(new_key, mode = 'RGB')\n",
    "    end = datetime.now()\n",
    "    print(\"Time: {}\".format((end - start).total_seconds()))"
   ]
  },
  {
   "cell_type": "markdown",
   "metadata": {},
   "source": [
    "#### Result\n",
    "Oh dear.  Loading would be 50 times faster if taking just the coarse instead of loading the whole image and then resizing for each use."
   ]
  },
  {
   "cell_type": "markdown",
   "metadata": {},
   "source": [
    "## Save coarse image for every key"
   ]
  },
  {
   "cell_type": "code",
   "execution_count": 31,
   "metadata": {
    "collapsed": false
   },
   "outputs": [],
   "source": [
    "for key in label_dictionary.keys() :\n",
    "    coarse = misc.imresize(misc.imread(key, mode = 'RGB'), size = [64,112,3], mode = 'RGB')\n",
    "    new_key = 'data/coarse_'+key[5:]\n",
    "    misc.imsave(new_key, coarse, 'JPEG')"
   ]
  },
  {
   "cell_type": "code",
   "execution_count": null,
   "metadata": {
    "collapsed": true
   },
   "outputs": [],
   "source": []
  }
 ],
 "metadata": {
  "kernelspec": {
   "display_name": "Python [conda root]",
   "language": "python",
   "name": "conda-root-py"
  },
  "language_info": {
   "codemirror_mode": {
    "name": "ipython",
    "version": 3
   },
   "file_extension": ".py",
   "mimetype": "text/x-python",
   "name": "python",
   "nbconvert_exporter": "python",
   "pygments_lexer": "ipython3",
   "version": "3.5.2"
  }
 },
 "nbformat": 4,
 "nbformat_minor": 2
}
